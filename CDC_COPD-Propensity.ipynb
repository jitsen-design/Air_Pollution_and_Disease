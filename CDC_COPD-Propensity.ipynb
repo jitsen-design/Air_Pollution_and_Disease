{
 "cells": [
  {
   "cell_type": "markdown",
   "metadata": {},
   "source": [
    "Import libraries and modules used for analysis"
   ]
  },
  {
   "cell_type": "code",
   "execution_count": 90,
   "metadata": {},
   "outputs": [],
   "source": [
    "import pandas as pd\n",
    "import numpy as np\n",
    "import matplotlib.pyplot as plt\n",
    "import re\n",
    "import statsmodels.api as sm\n",
    "from statsmodels.genmod.families import Poisson\n",
    "from sklearn.model_selection import train_test_split\n",
    "from sklearn import cluster, datasets\n",
    "from sklearn.preprocessing import MinMaxScaler\n",
    "from sklearn.ensemble import RandomForestRegressor\n",
    "from sklearn import metrics\n",
    "from sklearn.metrics import classification_report\n",
    "from sklearn.linear_model import LinearRegression\n",
    "import seaborn as sns\n",
    "from sklearn.linear_model import LogisticRegression\n",
    "from sklearn.neighbors import NearestNeighbors\n",
    "from scipy.stats import ttest_rel, norm"
   ]
  },
  {
   "cell_type": "markdown",
   "metadata": {},
   "source": [
    "Retrieve air quality measures from EPA"
   ]
  },
  {
   "cell_type": "code",
   "execution_count": 91,
   "metadata": {
    "collapsed": true
   },
   "outputs": [],
   "source": [
    "Air_Qual = pd.read_csv('Air_Qual.csv')\n",
    "\n",
    "Death_2012_1 = pd.read_csv('Underlying Cause of Death, 2012.txt',sep='\\t', usecols = [\"ICD Sub-Chapter\",\"ICD Sub-Chapter Code\",\"State\",\"State Code\",\"County\",\"County Code\",\"2013 Urbanization\",\"2013 Urbanization Code\",\"Five-Year Age Groups\",\"Five-Year Age Groups Code\",\"Deaths\",\"Population\",\"Crude Rate\",\"% of Total Deaths\"])\n",
    "Death_2012_1['Year'] = 2012\n",
    "Death_2013_1 = pd.read_csv('Underlying Cause of Death, 2013.txt',sep='\\t', usecols = [\"ICD Sub-Chapter\",\"ICD Sub-Chapter Code\",\"State\",\"State Code\",\"County\",\"County Code\",\"2013 Urbanization\",\"2013 Urbanization Code\",\"Five-Year Age Groups\",\"Five-Year Age Groups Code\",\"Deaths\",\"Population\",\"Crude Rate\",\"% of Total Deaths\"])\n",
    "Death_2013_1['Year'] = 2013\n",
    "Death_2014_1 = pd.read_csv('Underlying Cause of Death, 2014.txt',sep='\\t', usecols = [\"ICD Sub-Chapter\",\"ICD Sub-Chapter Code\",\"State\",\"State Code\",\"County\",\"County Code\",\"2013 Urbanization\",\"2013 Urbanization Code\",\"Five-Year Age Groups\",\"Five-Year Age Groups Code\",\"Deaths\",\"Population\",\"Crude Rate\",\"% of Total Deaths\"])\n",
    "Death_2014_1['Year'] = 2014\n",
    "Death_2015_1 = pd.read_csv('Underlying Cause of Death, 2015.txt',sep='\\t', usecols = [\"ICD Sub-Chapter\",\"ICD Sub-Chapter Code\",\"State\",\"State Code\",\"County\",\"County Code\",\"2013 Urbanization\",\"2013 Urbanization Code\",\"Five-Year Age Groups\",\"Five-Year Age Groups Code\",\"Deaths\",\"Population\",\"Crude Rate\",\"% of Total Deaths\"])\n",
    "Death_2015_1['Year'] = 2015"
   ]
  },
  {
   "cell_type": "markdown",
   "metadata": {},
   "source": [
    "Retrieve data on diabetes"
   ]
  },
  {
   "cell_type": "code",
   "execution_count": 92,
   "metadata": {
    "collapsed": true
   },
   "outputs": [],
   "source": [
    "Diabetes = pd.read_csv('Diabetes.csv',sep=',', usecols = ['State','County','Prevalence, 1999, Both Sexes',\n",
    "'Prevalence, 2000, Both Sexes','Prevalence, 2001, Both Sexes','Prevalence, 2002, Both Sexes',\n",
    "'Prevalence, 2003, Both Sexes','Prevalence, 2004, Both Sexes','Prevalence, 2005, Both Sexes', \n",
    "'Prevalence, 2006, Both Sexes','Prevalence, 2007, Both Sexes','Prevalence, 2008, Both Sexes',\n",
    "'Prevalence, 2009, Both Sexes','Prevalence, 2010, Both Sexes','Prevalence, 2011, Both Sexes',\n",
    "'Prevalence, 2012, Both Sexes'])  \n",
    "\n",
    "pandas_dict = {}\n",
    "Year_list = [(2000,'2000'),(2001,'2001'),(2002,'2002'),(2003,'2003'),(2004,'2004'),\n",
    "             (2005,'2005'),(2006,'2006'),(2007,'2007'),(2008,'2008'),(2009,'2009'),\n",
    "             (2010,'2010'),(2011,'2011'),(2012,'2012')]\n",
    "for k,v in Year_list:\n",
    "    pandas_dict[k] = Diabetes[['State','County','Prevalence, %r, Both Sexes' %k]]\n",
    "\n",
    "Diabetes_list = []\n",
    "Diabetes = pd.DataFrame()\n",
    "for k,v in pandas_dict.items():\n",
    "    v['Year'] = k\n",
    "    v.columns.values[2] = 'Prevalence of Diabetes'\n",
    "    Diabetes_list.append(v)\n",
    "Diabetes_Concat = pd.concat(Diabetes_list)\n",
    "Diabetes_Concat['County'] = Diabetes_Concat['County'].apply(lambda x: x.split()[0])"
   ]
  },
  {
   "cell_type": "markdown",
   "metadata": {},
   "source": [
    "Retrieve data on poverty"
   ]
  },
  {
   "cell_type": "code",
   "execution_count": 93,
   "metadata": {
    "collapsed": true
   },
   "outputs": [],
   "source": [
    "import glob\n",
    "import errno\n",
    "import os\n",
    "path = '/Users/jitsen/Documents/metis/metisgh/CDC/Poverty'\n",
    "content = []\n",
    "for filename in glob.glob(os.path.join(path, '*.csv')):\n",
    "    content.append(filename)\n",
    "    \n",
    "Poverty = pd.read_csv(content[0],usecols = ['Year','State / County Name','All Ages in Poverty Percent',\n",
    "                                           'Median Household Income in Dollars','County ID'])\n",
    "for i in content[1:]:\n",
    "    Poverty = pd.concat([Poverty, pd.read_csv(i,usecols = ['Year','State / County Name','All Ages in Poverty Percent',\n",
    "                                                          'Median Household Income in Dollars','County ID'])])"
   ]
  },
  {
   "cell_type": "markdown",
   "metadata": {},
   "source": [
    "Change coding scheme for states in order to merge with other tables"
   ]
  },
  {
   "cell_type": "code",
   "execution_count": 94,
   "metadata": {
    "collapsed": true
   },
   "outputs": [],
   "source": [
    "Poverty['County'] = Poverty['State / County Name'].apply(lambda x : x.split()[0])\n",
    "Poverty['State'] = Poverty['State / County Name'].apply(lambda x : x.split()[-1][1:3])\n",
    "states = {'AK': 'Alaska','AL': 'Alabama','AR': 'Arkansas','AS': 'American Samoa','AZ': 'Arizona','CA': 'California','CO': 'Colorado',\n",
    "        'CT': 'Connecticut','DC': 'District of Columbia','DE': 'Delaware','FL': 'Florida','GA': 'Georgia','GU': 'Guam',\n",
    "        'HI': 'Hawaii','IA': 'Iowa','ID': 'Idaho','IL': 'Illinois','IN': 'Indiana','KS': 'Kansas','KY': 'Kentucky',\n",
    "        'LA': 'Louisiana','MA': 'Massachusetts','MD': 'Maryland','ME': 'Maine','MI': 'Michigan','MN': 'Minnesota',\n",
    "        'MO': 'Missouri','MP': 'Northern Mariana Islands','MS': 'Mississippi','MT': 'Montana','NA': 'National','NC': 'North Carolina',\n",
    "        'ND': 'North Dakota','NE': 'Nebraska','NH': 'New Hampshire','NJ': 'New Jersey','NM': 'New Mexico','NV': 'Nevada',\n",
    "        'NY': 'New York','OH': 'Ohio','OK': 'Oklahoma','OR': 'Oregon','PA': 'Pennsylvania','PR': 'Puerto Rico','RI': 'Rhode Island',\n",
    "        'SC': 'South Carolina','SD': 'South Dakota','TN': 'Tennessee','TX': 'Texas','UT': 'Utah','VA': 'Virginia',\n",
    "        'VI': 'Virgin Islands','VT': 'Vermont','WA': 'Washington','WI': 'Wisconsin','WV': 'West Virginia','WY': 'Wyoming'}\n",
    "\n",
    "Poverty['State'] = Poverty['State'].map(states)\n",
    "\n",
    "Poverty['Median_Income'] = Poverty['Median Household Income in Dollars'].apply(lambda x : re.sub('[^0-9]','',str(x)))\n",
    "Poverty['Median_Income'] = pd.to_numeric(Poverty['Median_Income'], errors='coerce')"
   ]
  },
  {
   "cell_type": "markdown",
   "metadata": {},
   "source": [
    "Merge Tables on Diabetes and Poverty"
   ]
  },
  {
   "cell_type": "code",
   "execution_count": 95,
   "metadata": {
    "collapsed": true
   },
   "outputs": [],
   "source": [
    "Diabetes_Poverty= pd.merge(Diabetes_Concat, Poverty,left_on = ['County','Year','State'],\n",
    "                  right_on = ['County','Year','State'])"
   ]
  },
  {
   "cell_type": "markdown",
   "metadata": {},
   "source": [
    "Checking if intergerity if tables was preserved"
   ]
  },
  {
   "cell_type": "code",
   "execution_count": 96,
   "metadata": {
    "scrolled": true
   },
   "outputs": [
    {
     "data": {
      "text/plain": [
       "array([2000, 2001, 2002, 2003, 2004, 2005, 2006, 2007, 2008, 2009, 2010,\n",
       "       2011, 2012])"
      ]
     },
     "execution_count": 96,
     "metadata": {},
     "output_type": "execute_result"
    }
   ],
   "source": [
    "Diabetes_Poverty['Year'].unique()"
   ]
  },
  {
   "cell_type": "markdown",
   "metadata": {},
   "source": [
    "Use air quality measure pertaining to P2.5 density"
   ]
  },
  {
   "cell_type": "code",
   "execution_count": 97,
   "metadata": {
    "collapsed": true
   },
   "outputs": [],
   "source": [
    "Air_Qual_2_5 = Air_Qual[Air_Qual['MeasureId']==296]"
   ]
  },
  {
   "cell_type": "markdown",
   "metadata": {},
   "source": [
    "Merge tables containing information on diabetes, poverty and air quality"
   ]
  },
  {
   "cell_type": "code",
   "execution_count": 98,
   "metadata": {
    "collapsed": true
   },
   "outputs": [],
   "source": [
    "Diabetes_Poverty_Air_Qual_2_5 = pd.merge(Diabetes_Poverty,Air_Qual_2_5,\n",
    "                left_on = ['County','Year','State'], \n",
    "                                right_on = ['CountyName','ReportYear','StateName'])"
   ]
  },
  {
   "cell_type": "markdown",
   "metadata": {},
   "source": [
    "Penalize years with poor air quality by adding a squared term to the merged table"
   ]
  },
  {
   "cell_type": "code",
   "execution_count": 99,
   "metadata": {
    "collapsed": true
   },
   "outputs": [],
   "source": [
    "Diabetes_Poverty_Air_Qual_2_5['Value_sq'] = Diabetes_Poverty_Air_Qual_2_5['Value'].apply(\n",
    "lambda x: x**2 )"
   ]
  },
  {
   "cell_type": "markdown",
   "metadata": {},
   "source": [
    "Get moving average datasets for four year comparison"
   ]
  },
  {
   "cell_type": "code",
   "execution_count": 100,
   "metadata": {
    "collapsed": true
   },
   "outputs": [],
   "source": [
    "DPA_2008 = Diabetes_Poverty_Air_Qual_2_5[(Diabetes_Poverty_Air_Qual_2_5['ReportYear'] >= 2001)&\n",
    "                                        (Diabetes_Poverty_Air_Qual_2_5['ReportYear'] <= 2008)]\n",
    "DPA_2009 = Diabetes_Poverty_Air_Qual_2_5[(Diabetes_Poverty_Air_Qual_2_5['ReportYear'] >= 2002)&\n",
    "                                        (Diabetes_Poverty_Air_Qual_2_5['ReportYear'] <= 2009)]\n",
    "DPA_2010 = Diabetes_Poverty_Air_Qual_2_5[(Diabetes_Poverty_Air_Qual_2_5['ReportYear'] >= 2003)&\n",
    "                                        (Diabetes_Poverty_Air_Qual_2_5['ReportYear'] <= 2010)]\n",
    "DPA_2011 = Diabetes_Poverty_Air_Qual_2_5[(Diabetes_Poverty_Air_Qual_2_5['ReportYear'] >= 2004)&\n",
    "                                        (Diabetes_Poverty_Air_Qual_2_5['ReportYear'] <= 2011)]\n"
   ]
  },
  {
   "cell_type": "markdown",
   "metadata": {},
   "source": [
    "Prior to merging, reset index and set comparison years for moving average dataset as 2012-2015"
   ]
  },
  {
   "cell_type": "code",
   "execution_count": 101,
   "metadata": {
    "collapsed": true
   },
   "outputs": [],
   "source": [
    "DPA_2008_mean = DPA_2008[['State', 'County', 'Prevalence of Diabetes', 'Year','State / County Name',\n",
    "'Median_Income','All Ages in Poverty Percent','Value','Value_sq','CountyFips']].groupby(['State','County']).mean()\n",
    "DPA_2008_mean = DPA_2008_mean.reset_index()\n",
    "DPA_2008_mean['Comp_Year'] = 2012\n",
    "\n",
    "DPA_2009_mean = DPA_2009[['State', 'County', 'Prevalence of Diabetes', 'Year','State / County Name',\n",
    "'Median_Income','All Ages in Poverty Percent','Value','Value_sq','CountyFips']].groupby(['State','County']).mean()\n",
    "DPA_2009_mean = DPA_2009_mean.reset_index()\n",
    "DPA_2009_mean['Comp_Year'] = 2013\n",
    "\n",
    "DPA_2010_mean = DPA_2010[['State', 'County', 'Prevalence of Diabetes', 'Year','State / County Name',\n",
    "'Median_Income','All Ages in Poverty Percent','Value','Value_sq','CountyFips']].groupby(['State','County']).mean()\n",
    "DPA_2010_mean = DPA_2010_mean.reset_index()\n",
    "DPA_2010_mean['Comp_Year'] = 2014\n",
    "\n",
    "DPA_2011_mean = DPA_2011[['State', 'County', 'Prevalence of Diabetes', 'Year','State / County Name',\n",
    "'Median_Income','All Ages in Poverty Percent','Value','Value_sq','CountyFips']].groupby(['State','County']).mean()\n",
    "DPA_2011_mean = DPA_2011_mean.reset_index()\n",
    "DPA_2011_mean['Comp_Year'] = 2015\n"
   ]
  },
  {
   "cell_type": "markdown",
   "metadata": {},
   "source": [
    "Pick data tables for death counts using only years 2012 to 2015"
   ]
  },
  {
   "cell_type": "code",
   "execution_count": 102,
   "metadata": {},
   "outputs": [
    {
     "name": "stderr",
     "output_type": "stream",
     "text": [
      "/Users/jitsen/anaconda/lib/python3.6/site-packages/ipykernel_launcher.py:6: SettingWithCopyWarning: \n",
      "A value is trying to be set on a copy of a slice from a DataFrame.\n",
      "Try using .loc[row_indexer,col_indexer] = value instead\n",
      "\n",
      "See the caveats in the documentation: http://pandas.pydata.org/pandas-docs/stable/indexing.html#indexing-view-versus-copy\n",
      "  \n"
     ]
    }
   ],
   "source": [
    "Death_concat = pd.concat([Death_2012_1,Death_2013_1,\n",
    "               Death_2014_1,Death_2015_1])\n",
    "\n",
    "Death_new = Death_concat[['State','County','2013 Urbanization','2013 Urbanization Code',\n",
    "'Five-Year Age Groups','Deaths','Population','Year','ICD Sub-Chapter']]\n",
    "Death_new['County'] = Death_new.County.str.split().str[0]\n",
    "cols = ['State','County','2013 Urbanization','2013 Urbanization Code',\n",
    "'Five-Year Age Groups','Deaths','Population','Year','ICD Sub-Chapter']\n",
    "Death_new = Death_new.loc[:, cols].dropna()\n",
    "\n",
    "DPA_concat = pd.concat([DPA_2008_mean,DPA_2009_mean,DPA_2010_mean,DPA_2011_mean])\n"
   ]
  },
  {
   "cell_type": "markdown",
   "metadata": {},
   "source": [
    "Merge moving average dataset and data on death, using years 2012-2015 as a link"
   ]
  },
  {
   "cell_type": "code",
   "execution_count": 103,
   "metadata": {
    "collapsed": true
   },
   "outputs": [],
   "source": [
    "Death_DPA_merge = pd.merge(DPA_concat, Death_new,left_on = ['State','County','Comp_Year'],\n",
    "                          right_on = ['State','County','Year'])"
   ]
  },
  {
   "cell_type": "markdown",
   "metadata": {},
   "source": [
    "Add Geo-Coordinates as a feature"
   ]
  },
  {
   "cell_type": "code",
   "execution_count": 104,
   "metadata": {
    "collapsed": true
   },
   "outputs": [],
   "source": [
    "Death_DPA_merge = Death_DPA_merge[Death_DPA_merge['Population'] != 'Not Applicable']\n",
    "Death_DPA_merge['Population'] = Death_DPA_merge['Population'].astype('int')\n",
    "Death_DPA_merge['prop_death'] = Death_DPA_merge['Deaths']/Death_DPA_merge['Population']\n",
    "Death_DPA_merge['Five-Year Age Groups'] = Death_DPA_merge['Five-Year Age Groups'].apply(\n",
    "lambda x : (int(x[3:5])+int(x[0:2]))/2)\n",
    "Death_DPA_merge\n",
    "Death_DPA_merge_COPD = Death_DPA_merge[Death_DPA_merge['ICD Sub-Chapter'] == 'Chronic lower respiratory diseases']"
   ]
  },
  {
   "cell_type": "code",
   "execution_count": 105,
   "metadata": {},
   "outputs": [
    {
     "data": {
      "text/html": [
       "<div>\n",
       "<style>\n",
       "    .dataframe thead tr:only-child th {\n",
       "        text-align: right;\n",
       "    }\n",
       "\n",
       "    .dataframe thead th {\n",
       "        text-align: left;\n",
       "    }\n",
       "\n",
       "    .dataframe tbody tr th {\n",
       "        vertical-align: top;\n",
       "    }\n",
       "</style>\n",
       "<table border=\"1\" class=\"dataframe\">\n",
       "  <thead>\n",
       "    <tr style=\"text-align: right;\">\n",
       "      <th></th>\n",
       "      <th>State</th>\n",
       "      <th>County</th>\n",
       "      <th>Prevalence of Diabetes</th>\n",
       "      <th>Year_x</th>\n",
       "      <th>Median_Income</th>\n",
       "      <th>All Ages in Poverty Percent</th>\n",
       "      <th>Value</th>\n",
       "      <th>Value_sq</th>\n",
       "      <th>CountyFips</th>\n",
       "      <th>Comp_Year</th>\n",
       "      <th>...</th>\n",
       "      <th>Deaths</th>\n",
       "      <th>Population</th>\n",
       "      <th>Year_y</th>\n",
       "      <th>ICD Sub-Chapter</th>\n",
       "      <th>prop_death</th>\n",
       "      <th>state</th>\n",
       "      <th>county</th>\n",
       "      <th>zip_code</th>\n",
       "      <th>latitude</th>\n",
       "      <th>longitude</th>\n",
       "    </tr>\n",
       "  </thead>\n",
       "  <tbody>\n",
       "    <tr>\n",
       "      <th>0</th>\n",
       "      <td>Alabama</td>\n",
       "      <td>Baldwin</td>\n",
       "      <td>8.02125</td>\n",
       "      <td>2004.5</td>\n",
       "      <td>44353.625</td>\n",
       "      <td>10.5625</td>\n",
       "      <td>11.530307</td>\n",
       "      <td>133.452176</td>\n",
       "      <td>1003.0</td>\n",
       "      <td>2012</td>\n",
       "      <td>...</td>\n",
       "      <td>13.0</td>\n",
       "      <td>6071</td>\n",
       "      <td>2012</td>\n",
       "      <td>Chronic lower respiratory diseases</td>\n",
       "      <td>0.002141</td>\n",
       "      <td>Alabama</td>\n",
       "      <td>Baldwin</td>\n",
       "      <td>36550.307692</td>\n",
       "      <td>30.587202</td>\n",
       "      <td>-87.719056</td>\n",
       "    </tr>\n",
       "    <tr>\n",
       "      <th>1</th>\n",
       "      <td>Alabama</td>\n",
       "      <td>Baldwin</td>\n",
       "      <td>8.02125</td>\n",
       "      <td>2004.5</td>\n",
       "      <td>44353.625</td>\n",
       "      <td>10.5625</td>\n",
       "      <td>11.530307</td>\n",
       "      <td>133.452176</td>\n",
       "      <td>1003.0</td>\n",
       "      <td>2012</td>\n",
       "      <td>...</td>\n",
       "      <td>17.0</td>\n",
       "      <td>4114</td>\n",
       "      <td>2012</td>\n",
       "      <td>Chronic lower respiratory diseases</td>\n",
       "      <td>0.004132</td>\n",
       "      <td>Alabama</td>\n",
       "      <td>Baldwin</td>\n",
       "      <td>36550.307692</td>\n",
       "      <td>30.587202</td>\n",
       "      <td>-87.719056</td>\n",
       "    </tr>\n",
       "    <tr>\n",
       "      <th>2</th>\n",
       "      <td>Alabama</td>\n",
       "      <td>Baldwin</td>\n",
       "      <td>8.28875</td>\n",
       "      <td>2005.5</td>\n",
       "      <td>45382.500</td>\n",
       "      <td>10.8375</td>\n",
       "      <td>11.197984</td>\n",
       "      <td>126.490542</td>\n",
       "      <td>1003.0</td>\n",
       "      <td>2013</td>\n",
       "      <td>...</td>\n",
       "      <td>17.0</td>\n",
       "      <td>11961</td>\n",
       "      <td>2013</td>\n",
       "      <td>Chronic lower respiratory diseases</td>\n",
       "      <td>0.001421</td>\n",
       "      <td>Alabama</td>\n",
       "      <td>Baldwin</td>\n",
       "      <td>36550.307692</td>\n",
       "      <td>30.587202</td>\n",
       "      <td>-87.719056</td>\n",
       "    </tr>\n",
       "    <tr>\n",
       "      <th>3</th>\n",
       "      <td>Alabama</td>\n",
       "      <td>Baldwin</td>\n",
       "      <td>8.28875</td>\n",
       "      <td>2005.5</td>\n",
       "      <td>45382.500</td>\n",
       "      <td>10.8375</td>\n",
       "      <td>11.197984</td>\n",
       "      <td>126.490542</td>\n",
       "      <td>1003.0</td>\n",
       "      <td>2013</td>\n",
       "      <td>...</td>\n",
       "      <td>18.0</td>\n",
       "      <td>9160</td>\n",
       "      <td>2013</td>\n",
       "      <td>Chronic lower respiratory diseases</td>\n",
       "      <td>0.001965</td>\n",
       "      <td>Alabama</td>\n",
       "      <td>Baldwin</td>\n",
       "      <td>36550.307692</td>\n",
       "      <td>30.587202</td>\n",
       "      <td>-87.719056</td>\n",
       "    </tr>\n",
       "    <tr>\n",
       "      <th>4</th>\n",
       "      <td>Alabama</td>\n",
       "      <td>Baldwin</td>\n",
       "      <td>8.28875</td>\n",
       "      <td>2005.5</td>\n",
       "      <td>45382.500</td>\n",
       "      <td>10.8375</td>\n",
       "      <td>11.197984</td>\n",
       "      <td>126.490542</td>\n",
       "      <td>1003.0</td>\n",
       "      <td>2013</td>\n",
       "      <td>...</td>\n",
       "      <td>14.0</td>\n",
       "      <td>6465</td>\n",
       "      <td>2013</td>\n",
       "      <td>Chronic lower respiratory diseases</td>\n",
       "      <td>0.002166</td>\n",
       "      <td>Alabama</td>\n",
       "      <td>Baldwin</td>\n",
       "      <td>36550.307692</td>\n",
       "      <td>30.587202</td>\n",
       "      <td>-87.719056</td>\n",
       "    </tr>\n",
       "  </tbody>\n",
       "</table>\n",
       "<p>5 rows × 23 columns</p>\n",
       "</div>"
      ],
      "text/plain": [
       "     State   County  Prevalence of Diabetes  Year_x  Median_Income  \\\n",
       "0  Alabama  Baldwin                 8.02125  2004.5      44353.625   \n",
       "1  Alabama  Baldwin                 8.02125  2004.5      44353.625   \n",
       "2  Alabama  Baldwin                 8.28875  2005.5      45382.500   \n",
       "3  Alabama  Baldwin                 8.28875  2005.5      45382.500   \n",
       "4  Alabama  Baldwin                 8.28875  2005.5      45382.500   \n",
       "\n",
       "   All Ages in Poverty Percent      Value    Value_sq  CountyFips  Comp_Year  \\\n",
       "0                      10.5625  11.530307  133.452176      1003.0       2012   \n",
       "1                      10.5625  11.530307  133.452176      1003.0       2012   \n",
       "2                      10.8375  11.197984  126.490542      1003.0       2013   \n",
       "3                      10.8375  11.197984  126.490542      1003.0       2013   \n",
       "4                      10.8375  11.197984  126.490542      1003.0       2013   \n",
       "\n",
       "     ...     Deaths  Population  Year_y                     ICD Sub-Chapter  \\\n",
       "0    ...       13.0        6071    2012  Chronic lower respiratory diseases   \n",
       "1    ...       17.0        4114    2012  Chronic lower respiratory diseases   \n",
       "2    ...       17.0       11961    2013  Chronic lower respiratory diseases   \n",
       "3    ...       18.0        9160    2013  Chronic lower respiratory diseases   \n",
       "4    ...       14.0        6465    2013  Chronic lower respiratory diseases   \n",
       "\n",
       "   prop_death    state   county      zip_code   latitude  longitude  \n",
       "0    0.002141  Alabama  Baldwin  36550.307692  30.587202 -87.719056  \n",
       "1    0.004132  Alabama  Baldwin  36550.307692  30.587202 -87.719056  \n",
       "2    0.001421  Alabama  Baldwin  36550.307692  30.587202 -87.719056  \n",
       "3    0.001965  Alabama  Baldwin  36550.307692  30.587202 -87.719056  \n",
       "4    0.002166  Alabama  Baldwin  36550.307692  30.587202 -87.719056  \n",
       "\n",
       "[5 rows x 23 columns]"
      ]
     },
     "execution_count": 105,
     "metadata": {},
     "output_type": "execute_result"
    }
   ],
   "source": [
    "Geo_coord = pd.read_csv('zip_codes_states.csv')\n",
    "Geo_coord['state'] = Geo_coord['state'].map(states)\n",
    "Geo_coord_mean = Geo_coord.groupby(['state','county',]).mean()\n",
    "Geo_coord_mean = Geo_coord_mean.reset_index()\n",
    "Death_m_concat_geo = pd.merge(Death_DPA_merge_COPD,Geo_coord_mean, left_on = ['State','County'],\n",
    "                              right_on = ['state','county'])\n",
    "Death_m_concat_geo.head()"
   ]
  },
  {
   "cell_type": "markdown",
   "metadata": {},
   "source": [
    "Find median value for p2.5 density counts"
   ]
  },
  {
   "cell_type": "code",
   "execution_count": 106,
   "metadata": {},
   "outputs": [
    {
     "data": {
      "text/plain": [
       "12.147984093360275"
      ]
     },
     "execution_count": 106,
     "metadata": {},
     "output_type": "execute_result"
    }
   ],
   "source": [
    "Death_m_concat_geo['Value'].median()"
   ]
  },
  {
   "cell_type": "markdown",
   "metadata": {},
   "source": [
    "Plot value counts to analyze distribution"
   ]
  },
  {
   "cell_type": "code",
   "execution_count": 107,
   "metadata": {},
   "outputs": [
    {
     "data": {
      "image/png": "[encoded data removed]",
      "text/plain": [
       "<matplotlib.figure.Figure at 0x1c1ddafac8>"
      ]
     },
     "metadata": {},
     "output_type": "display_data"
    }
   ],
   "source": [
    "plt.figure(figsize = (16,4))\n",
    "plt.hist(Death_m_concat_geo['Value'], bins = 100)\n",
    "plt.show()"
   ]
  },
  {
   "cell_type": "markdown",
   "metadata": {},
   "source": [
    "Split data into high density counties and low density counties based on median P2.5 density"
   ]
  },
  {
   "cell_type": "code",
   "execution_count": 108,
   "metadata": {
    "collapsed": true
   },
   "outputs": [],
   "source": [
    "Death_m_concat_geo['Pollution'] = Death_m_concat_geo['Value'].apply(lambda x: 'high' if x > 12.0489 else 'low' if x < 12.0489  else 'neutral')"
   ]
  },
  {
   "cell_type": "markdown",
   "metadata": {},
   "source": [
    "Log transform data and get probabilities of counties having 'high' density"
   ]
  },
  {
   "cell_type": "code",
   "execution_count": 109,
   "metadata": {
    "collapsed": true
   },
   "outputs": [],
   "source": [
    "X_log = Death_m_concat_geo[['Comp_Year','Prevalence of Diabetes',\n",
    "       'All Ages in Poverty Percent','2013 Urbanization Code',\n",
    "       'latitude', 'longitude','Population','Five-Year Age Groups']]\n",
    "\n",
    "y_log = Death_m_concat_geo['Pollution']\n",
    "\n",
    "scaler = MinMaxScaler(feature_range=(0, 1))\n",
    "X_log_t = scaler.fit_transform(X_log)\n",
    "\n",
    "Lr = LogisticRegression(penalty = 'l1', dual=False, tol=0.0001,fit_intercept=True, intercept_scaling=1)\n",
    "Lr.fit(X_log_t, y_log)\n",
    "y_pred = pd.DataFrame(Lr.predict_proba(X_log_t))\n",
    "Death_m_concat_geo['High_Proba'] = y_pred[0].apply(lambda x : np.log(x))\n",
    "Death_m_concat_geo['Low_Proba'] = y_pred[1].apply(lambda x : np.log(x))"
   ]
  },
  {
   "cell_type": "markdown",
   "metadata": {},
   "source": [
    "Make sure there is significant overlap between two groups to do pairwise tests"
   ]
  },
  {
   "cell_type": "code",
   "execution_count": 110,
   "metadata": {},
   "outputs": [
    {
     "name": "stderr",
     "output_type": "stream",
     "text": [
      "No handles with labels found to put in legend.\n"
     ]
    },
    {
     "data": {
      "image/png": "[encoded data removed]",
      "text/plain": [
       "<matplotlib.figure.Figure at 0x1c170e8f98>"
      ]
     },
     "metadata": {},
     "output_type": "display_data"
    }
   ],
   "source": [
    "fig, ax = plt.subplots(1,2, figsize = (8,4), sharey = True, sharex = True);\n",
    "ax[0].hist(Death_m_concat_geo['High_Proba'][Death_m_concat_geo['Pollution']=='high'],bins=100, label= 'High Pollution Counts');\n",
    "plt.legend();\n",
    "ax[1].hist(Death_m_concat_geo['High_Proba'][Death_m_concat_geo['Pollution']=='low'],bins=100, label ='Low Pollution Counts');\n",
    "ax[0].legend();\n",
    "ax[1].legend();\n",
    "plt.ylim(0,200)\n",
    "plt.show();"
   ]
  },
  {
   "cell_type": "code",
   "execution_count": 111,
   "metadata": {},
   "outputs": [
    {
     "data": {
      "text/plain": [
       "(4023,)"
      ]
     },
     "execution_count": 111,
     "metadata": {},
     "output_type": "execute_result"
    }
   ],
   "source": [
    "Death_m_concat_geo['High_Proba'][Death_m_concat_geo['Pollution']=='low'].shape"
   ]
  },
  {
   "cell_type": "markdown",
   "metadata": {},
   "source": [
    "Split data frame into high density and low density groups"
   ]
  },
  {
   "cell_type": "code",
   "execution_count": 112,
   "metadata": {
    "collapsed": true
   },
   "outputs": [],
   "source": [
    "Death_m_concat_geo2 = Death_m_concat_geo[Death_m_concat_geo['High_Proba']>=-1.8]\n",
    "low = Death_m_concat_geo2[['State','County','Comp_Year','Prevalence of Diabetes',\n",
    "       'All Ages in Poverty Percent','Value', 'Value_sq','2013 Urbanization Code','Deaths',\n",
    "       'latitude', 'longitude','prop_death','Population','Five-Year Age Groups','Pollution','High_Proba']][Death_m_concat_geo2['Pollution']=='low']\n",
    "high = Death_m_concat_geo2[['State','County','Comp_Year','Prevalence of Diabetes',\n",
    "       'All Ages in Poverty Percent','Value','Value_sq','2013 Urbanization Code','Deaths',\n",
    "       'latitude', 'longitude','prop_death','Population','Five-Year Age Groups','Pollution','High_Proba']][Death_m_concat_geo2['Pollution']=='high']\n",
    "\n",
    "low.columns = [i+\"_low\" for i in low.columns]\n",
    "high.columns = [i+\"_high\" for i in high.columns]"
   ]
  },
  {
   "cell_type": "markdown",
   "metadata": {},
   "source": [
    "Merge dataframes in order to do pairwise matches between the two groups on 'predict_proba' values"
   ]
  },
  {
   "cell_type": "code",
   "execution_count": 113,
   "metadata": {
    "collapsed": true
   },
   "outputs": [],
   "source": [
    "low_high_merge = pd.merge(high,low, how = 'outer', left_on = ['Comp_Year_high','Five-Year Age Groups_high'],\n",
    "                         right_on = ['Comp_Year_low','Five-Year Age Groups_low'] )"
   ]
  },
  {
   "cell_type": "code",
   "execution_count": 114,
   "metadata": {},
   "outputs": [
    {
     "data": {
      "text/plain": [
       "(672497, 32)"
      ]
     },
     "execution_count": 114,
     "metadata": {},
     "output_type": "execute_result"
    }
   ],
   "source": [
    "low_high_merge.shape"
   ]
  },
  {
   "cell_type": "code",
   "execution_count": 115,
   "metadata": {
    "collapsed": true
   },
   "outputs": [],
   "source": [
    "low_high_merge['Value_Diff'] = low_high_merge['Value_high']-low_high_merge['Value_low']\n",
    "low_high_merge['Prob_Diff'] = low_high_merge['High_Proba_high']-low_high_merge['High_Proba_low']\n",
    "low_high_merge['prop_death_diff'] = low_high_merge['prop_death_high']*1000-low_high_merge['prop_death_low']*1000"
   ]
  },
  {
   "cell_type": "markdown",
   "metadata": {},
   "source": [
    "Set caliper width to .0005"
   ]
  },
  {
   "cell_type": "code",
   "execution_count": 116,
   "metadata": {},
   "outputs": [
    {
     "data": {
      "text/plain": [
       "(486, 35)"
      ]
     },
     "execution_count": 116,
     "metadata": {},
     "output_type": "execute_result"
    }
   ],
   "source": [
    "low_high_merge_2 = low_high_merge[(low_high_merge['Prob_Diff'] <= .0005)&\n",
    "                                 (low_high_merge['Prob_Diff'] >= -.0005)]\n",
    "\n",
    "low_high_merge_2.shape"
   ]
  },
  {
   "cell_type": "markdown",
   "metadata": {},
   "source": [
    "Plot differences in deaths on pairwise matches"
   ]
  },
  {
   "cell_type": "code",
   "execution_count": 117,
   "metadata": {
    "scrolled": true
   },
   "outputs": [
    {
     "data": {
      "image/png": "[encoded data removed]",
      "text/plain": [
       "<matplotlib.figure.Figure at 0x1c1ddafa90>"
      ]
     },
     "metadata": {},
     "output_type": "display_data"
    }
   ],
   "source": [
    "plt.figure(figsize = (16,8))\n",
    "plt.hist(low_high_merge_2['prop_death_diff'], bins = 100)\n",
    "plt.xlabel('Prop_Death Differential Between Counties with low and high P2.5 counts', fontsize = 16)\n",
    "plt.ylabel('Counts', fontsize = 16)\n",
    "plt.xlim(-10,10)\n",
    "plt.ylim(0,120)\n",
    "\n",
    "plt.show()"
   ]
  },
  {
   "cell_type": "markdown",
   "metadata": {},
   "source": [
    "Observe mean difference in deaths, along with mean deaths in both high density and low density groups"
   ]
  },
  {
   "cell_type": "code",
   "execution_count": 118,
   "metadata": {},
   "outputs": [
    {
     "data": {
      "text/plain": [
       "(0.20811629499793108, 3.3270289078862647, 3.118912612888329)"
      ]
     },
     "execution_count": 118,
     "metadata": {},
     "output_type": "execute_result"
    }
   ],
   "source": [
    "low_high_merge_2['prop_death_diff'].mean(),low_high_merge_2['prop_death_high'].mean()*1000,low_high_merge_2['prop_death_low'].mean()*1000"
   ]
  },
  {
   "cell_type": "code",
   "execution_count": 119,
   "metadata": {},
   "outputs": [
    {
     "data": {
      "text/plain": [
       "1604.4453564037824"
      ]
     },
     "execution_count": 119,
     "metadata": {},
     "output_type": "execute_result"
    }
   ],
   "source": [
    "low_high_merge_2['prop_death_diff'].sem(), norm.ppf(.8),norm.ppf(.975)\n",
    "\n",
    "z_score = low_high_merge_2['prop_death_diff'].mean()/(norm.ppf(.8)+norm.ppf(.975))\n",
    "\n",
    "(2*low_high_merge_2['prop_death_diff'].var())/z_score**2"
   ]
  },
  {
   "cell_type": "markdown",
   "metadata": {},
   "source": [
    "Plot difference in paired means against P2.5 density. Linear relationship is not apparent"
   ]
  },
  {
   "cell_type": "code",
   "execution_count": 120,
   "metadata": {},
   "outputs": [
    {
     "data": {
      "image/png": "[encoded data removed]",
      "text/plain": [
       "<matplotlib.figure.Figure at 0x1c1be54048>"
      ]
     },
     "metadata": {},
     "output_type": "display_data"
    }
   ],
   "source": [
    "Death_Value_list = zip(low_high_merge_2['prop_death_diff'],low_high_merge_2['Value_Diff'])\n",
    "Death_Value_list2 = sorted(Death_Value_list, key=lambda x: x[1])\n",
    "\n",
    "plt.figure(figsize = (8,8))\n",
    "plt.scatter([x[1] for x in Death_Value_list2],[x[0] for x in Death_Value_list2])\n",
    "plt.show()"
   ]
  },
  {
   "cell_type": "markdown",
   "metadata": {},
   "source": [
    "Run a T-Test on the mean difference between pairs from 'high' and 'low' particulate density groups"
   ]
  },
  {
   "cell_type": "code",
   "execution_count": 121,
   "metadata": {},
   "outputs": [
    {
     "data": {
      "text/plain": [
       "Ttest_relResult(statistic=2.1805924518490558, pvalue=0.029693429502804833)"
      ]
     },
     "execution_count": 121,
     "metadata": {},
     "output_type": "execute_result"
    }
   ],
   "source": [
    "ttest_rel(low_high_merge_2['prop_death_high']*1000,low_high_merge_2['prop_death_low']*1000, axis=0, nan_policy='propagate')"
   ]
  },
  {
   "cell_type": "code",
   "execution_count": 122,
   "metadata": {},
   "outputs": [
    {
     "data": {
      "text/plain": [
       "(4.234392957011787, -4.138572548095642)"
      ]
     },
     "execution_count": 122,
     "metadata": {},
     "output_type": "execute_result"
    }
   ],
   "source": [
    "low_high_merge_2['prop_death_diff'].quantile(q=0.975),low_high_merge_2['prop_death_diff'].quantile(q=0.025)"
   ]
  },
  {
   "cell_type": "markdown",
   "metadata": {},
   "source": [
    "Run paired T-Test on all other features, to make sure they aren't statistically significant"
   ]
  },
  {
   "cell_type": "code",
   "execution_count": 123,
   "metadata": {},
   "outputs": [
    {
     "data": {
      "text/plain": [
       "Ttest_relResult(statistic=-0.34819329313163017, pvalue=0.72784610419932094)"
      ]
     },
     "execution_count": 123,
     "metadata": {},
     "output_type": "execute_result"
    }
   ],
   "source": [
    "ttest_rel(low_high_merge_2['All Ages in Poverty Percent_high'],low_high_merge_2['All Ages in Poverty Percent_low'], axis=0, nan_policy='propagate')"
   ]
  },
  {
   "cell_type": "code",
   "execution_count": 124,
   "metadata": {},
   "outputs": [
    {
     "data": {
      "text/plain": [
       "Ttest_relResult(statistic=1.5164382816697632, pvalue=0.13006004887462835)"
      ]
     },
     "execution_count": 124,
     "metadata": {},
     "output_type": "execute_result"
    }
   ],
   "source": [
    "ttest_rel(low_high_merge_2['Prevalence of Diabetes_high'],low_high_merge_2['Prevalence of Diabetes_low'], axis=0, nan_policy='propagate')"
   ]
  },
  {
   "cell_type": "code",
   "execution_count": 125,
   "metadata": {},
   "outputs": [
    {
     "data": {
      "text/plain": [
       "Ttest_relResult(statistic=-1.7531999212920373, pvalue=0.080199431536635599)"
      ]
     },
     "execution_count": 125,
     "metadata": {},
     "output_type": "execute_result"
    }
   ],
   "source": [
    "ttest_rel(low_high_merge_2['latitude_high'],low_high_merge_2['latitude_low'], axis=0, nan_policy='propagate')\n"
   ]
  },
  {
   "cell_type": "code",
   "execution_count": 126,
   "metadata": {},
   "outputs": [
    {
     "data": {
      "text/plain": [
       "Ttest_relResult(statistic=-1.5879875979619018, pvalue=0.11294081592343798)"
      ]
     },
     "execution_count": 126,
     "metadata": {},
     "output_type": "execute_result"
    }
   ],
   "source": [
    "ttest_rel(low_high_merge_2['longitude_high'],low_high_merge_2['longitude_low'], axis=0, nan_policy='propagate')\n"
   ]
  },
  {
   "cell_type": "code",
   "execution_count": 127,
   "metadata": {},
   "outputs": [
    {
     "name": "stderr",
     "output_type": "stream",
     "text": [
      "/Users/jitsen/anaconda/lib/python3.6/site-packages/scipy/stats/stats.py:3833: RuntimeWarning: invalid value encountered in absolute\n",
      "  prob = distributions.t.sf(np.abs(t), df) * 2  # use np.abs to get upper tail\n"
     ]
    },
    {
     "data": {
      "text/plain": [
       "Ttest_relResult(statistic=nan, pvalue=nan)"
      ]
     },
     "execution_count": 127,
     "metadata": {},
     "output_type": "execute_result"
    }
   ],
   "source": [
    "ttest_rel(low_high_merge_2['Five-Year Age Groups_high'],low_high_merge_2['Five-Year Age Groups_low'], axis=0, nan_policy='propagate')"
   ]
  },
  {
   "cell_type": "code",
   "execution_count": 128,
   "metadata": {},
   "outputs": [
    {
     "data": {
      "text/plain": [
       "Ttest_relResult(statistic=1.5789010789312918, pvalue=0.11501070172712624)"
      ]
     },
     "execution_count": 128,
     "metadata": {},
     "output_type": "execute_result"
    }
   ],
   "source": [
    "ttest_rel(low_high_merge_2['2013 Urbanization Code_high'],low_high_merge_2['2013 Urbanization Code_low'],\n",
    "         axis=0, nan_policy='propagate')"
   ]
  },
  {
   "cell_type": "code",
   "execution_count": 129,
   "metadata": {},
   "outputs": [
    {
     "data": {
      "text/plain": [
       "Ttest_relResult(statistic=-0.85491694326283885, pvalue=0.39301923624477486)"
      ]
     },
     "execution_count": 129,
     "metadata": {},
     "output_type": "execute_result"
    }
   ],
   "source": [
    "ttest_rel(low_high_merge_2['Population_high'],low_high_merge_2['Population_low'],\n",
    "         axis=0, nan_policy='propagate')"
   ]
  },
  {
   "cell_type": "markdown",
   "metadata": {
    "collapsed": true
   },
   "source": [
    "Conclustion: Death counts per thousand seems to be the only statistically significant metric when running a paired T-Test between pairs of counties from the 'high' and 'low' particulate matter density groups. Theref"
   ]
  },
  {
   "cell_type": "code",
   "execution_count": null,
   "metadata": {
    "collapsed": true
   },
   "outputs": [],
   "source": []
  }
 ],
 "metadata": {
  "kernelspec": {
   "display_name": "Python 3",
   "language": "python",
   "name": "python3"
  },
  "language_info": {
   "codemirror_mode": {
    "name": "ipython",
    "version": 3
   },
   "file_extension": ".py",
   "mimetype": "text/x-python",
   "name": "python",
   "nbconvert_exporter": "python",
   "pygments_lexer": "ipython3",
   "version": "3.6.3"
  }
 },
 "nbformat": 4,
 "nbformat_minor": 2
}
