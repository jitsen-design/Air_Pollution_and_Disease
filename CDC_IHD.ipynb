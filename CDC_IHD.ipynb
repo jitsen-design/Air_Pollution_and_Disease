{
 "cells": [
  {
   "cell_type": "markdown",
   "metadata": {},
   "source": [
    "Import modules and libraries required for project"
   ]
  },
  {
   "cell_type": "code",
   "execution_count": 8,
   "metadata": {},
   "outputs": [
    {
     "name": "stderr",
     "output_type": "stream",
     "text": [
      "/Users/jitsen/anaconda/lib/python3.6/site-packages/statsmodels/compat/pandas.py:56: FutureWarning: The pandas.core.datetools module is deprecated and will be removed in a future version. Please use the pandas.tseries module instead.\n",
      "  from pandas.core import datetools\n"
     ]
    }
   ],
   "source": [
    "import pandas as pd\n",
    "import numpy as np\n",
    "import matplotlib.pyplot as plt\n",
    "import re\n",
    "import statsmodels.api as sm\n",
    "from statsmodels.genmod.families import Poisson\n",
    "from sklearn.model_selection import train_test_split\n",
    "from sklearn import cluster, datasets\n",
    "from sklearn.preprocessing import MinMaxScaler\n",
    "from sklearn.ensemble import RandomForestRegressor\n",
    "from sklearn import metrics\n",
    "from sklearn.metrics import classification_report\n",
    "from sklearn.linear_model import LinearRegression\n",
    "import seaborn as sns"
   ]
  },
  {
   "cell_type": "markdown",
   "metadata": {},
   "source": [
    "Import data pertaining to air quality measures"
   ]
  },
  {
   "cell_type": "code",
   "execution_count": 9,
   "metadata": {
    "collapsed": true
   },
   "outputs": [],
   "source": [
    "Air_Qual = pd.read_csv('Air_Qual.csv')\n",
    "\n",
    "Death_2012_1 = pd.read_csv('Underlying Cause of Death, 2012.txt',sep='\\t', usecols = [\"ICD Sub-Chapter\",\"ICD Sub-Chapter Code\",\"State\",\"State Code\",\"County\",\"County Code\",\"2013 Urbanization\",\"2013 Urbanization Code\",\"Five-Year Age Groups\",\"Five-Year Age Groups Code\",\"Deaths\",\"Population\",\"Crude Rate\",\"% of Total Deaths\"])\n",
    "Death_2012_1['Year'] = 2012\n",
    "Death_2013_1 = pd.read_csv('Underlying Cause of Death, 2013.txt',sep='\\t', usecols = [\"ICD Sub-Chapter\",\"ICD Sub-Chapter Code\",\"State\",\"State Code\",\"County\",\"County Code\",\"2013 Urbanization\",\"2013 Urbanization Code\",\"Five-Year Age Groups\",\"Five-Year Age Groups Code\",\"Deaths\",\"Population\",\"Crude Rate\",\"% of Total Deaths\"])\n",
    "Death_2013_1['Year'] = 2013\n",
    "Death_2014_1 = pd.read_csv('Underlying Cause of Death, 2014.txt',sep='\\t', usecols = [\"ICD Sub-Chapter\",\"ICD Sub-Chapter Code\",\"State\",\"State Code\",\"County\",\"County Code\",\"2013 Urbanization\",\"2013 Urbanization Code\",\"Five-Year Age Groups\",\"Five-Year Age Groups Code\",\"Deaths\",\"Population\",\"Crude Rate\",\"% of Total Deaths\"])\n",
    "Death_2014_1['Year'] = 2014\n",
    "Death_2015_1 = pd.read_csv('Underlying Cause of Death, 2015.txt',sep='\\t', usecols = [\"ICD Sub-Chapter\",\"ICD Sub-Chapter Code\",\"State\",\"State Code\",\"County\",\"County Code\",\"2013 Urbanization\",\"2013 Urbanization Code\",\"Five-Year Age Groups\",\"Five-Year Age Groups Code\",\"Deaths\",\"Population\",\"Crude Rate\",\"% of Total Deaths\"])\n",
    "Death_2015_1['Year'] = 2015"
   ]
  },
  {
   "cell_type": "markdown",
   "metadata": {},
   "source": [
    "Import data on diabetes"
   ]
  },
  {
   "cell_type": "code",
   "execution_count": 10,
   "metadata": {
    "collapsed": true
   },
   "outputs": [],
   "source": [
    "Diabetes = pd.read_csv('Diabetes.csv',sep=',', usecols = ['State','County','Prevalence, 1999, Both Sexes',\n",
    "'Prevalence, 2000, Both Sexes','Prevalence, 2001, Both Sexes','Prevalence, 2002, Both Sexes',\n",
    "'Prevalence, 2003, Both Sexes','Prevalence, 2004, Both Sexes','Prevalence, 2005, Both Sexes', \n",
    "'Prevalence, 2006, Both Sexes','Prevalence, 2007, Both Sexes','Prevalence, 2008, Both Sexes',\n",
    "'Prevalence, 2009, Both Sexes','Prevalence, 2010, Both Sexes','Prevalence, 2011, Both Sexes',\n",
    "'Prevalence, 2012, Both Sexes'])  \n",
    "\n",
    "pandas_dict = {}\n",
    "Year_list = [(2000,'2000'),(2001,'2001'),(2002,'2002'),(2003,'2003'),(2004,'2004'),\n",
    "             (2005,'2005'),(2006,'2006'),(2007,'2007'),(2008,'2008'),(2009,'2009'),\n",
    "             (2010,'2010'),(2011,'2011'),(2012,'2012')]\n",
    "for k,v in Year_list:\n",
    "    pandas_dict[k] = Diabetes[['State','County','Prevalence, %r, Both Sexes' %k]]\n",
    "\n",
    "Diabetes_list = []\n",
    "Diabetes = pd.DataFrame()\n",
    "for k,v in pandas_dict.items():\n",
    "    v['Year'] = k\n",
    "    v.columns.values[2] = 'Prevalence of Diabetes'\n",
    "    Diabetes_list.append(v)\n",
    "Diabetes_Concat = pd.concat(Diabetes_list)\n",
    "Diabetes_Concat['County'] = Diabetes_Concat['County'].apply(lambda x: x.split()[0])"
   ]
  },
  {
   "cell_type": "markdown",
   "metadata": {},
   "source": [
    "Import data on poverty"
   ]
  },
  {
   "cell_type": "code",
   "execution_count": 11,
   "metadata": {
    "collapsed": true
   },
   "outputs": [],
   "source": [
    "import glob\n",
    "import errno\n",
    "import os\n",
    "path = '/Users/jitsen/Documents/metis/metisgh/CDC/Poverty'\n",
    "content = []\n",
    "for filename in glob.glob(os.path.join(path, '*.csv')):\n",
    "    content.append(filename)\n",
    "    \n",
    "Poverty = pd.read_csv(content[0],usecols = ['Year','State / County Name','All Ages in Poverty Percent',\n",
    "                                           'Median Household Income in Dollars','County ID'])\n",
    "for i in content[1:]:\n",
    "    Poverty = pd.concat([Poverty, pd.read_csv(i,usecols = ['Year','State / County Name','All Ages in Poverty Percent',\n",
    "                                                          'Median Household Income in Dollars','County ID'])])"
   ]
  },
  {
   "cell_type": "code",
   "execution_count": 12,
   "metadata": {
    "collapsed": true
   },
   "outputs": [],
   "source": [
    "Poverty['County'] = Poverty['State / County Name'].apply(lambda x : x.split()[0])\n",
    "Poverty['State'] = Poverty['State / County Name'].apply(lambda x : x.split()[-1][1:3])\n",
    "states = {'AK': 'Alaska','AL': 'Alabama','AR': 'Arkansas','AS': 'American Samoa','AZ': 'Arizona','CA': 'California','CO': 'Colorado',\n",
    "        'CT': 'Connecticut','DC': 'District of Columbia','DE': 'Delaware','FL': 'Florida','GA': 'Georgia','GU': 'Guam',\n",
    "        'HI': 'Hawaii','IA': 'Iowa','ID': 'Idaho','IL': 'Illinois','IN': 'Indiana','KS': 'Kansas','KY': 'Kentucky',\n",
    "        'LA': 'Louisiana','MA': 'Massachusetts','MD': 'Maryland','ME': 'Maine','MI': 'Michigan','MN': 'Minnesota',\n",
    "        'MO': 'Missouri','MP': 'Northern Mariana Islands','MS': 'Mississippi','MT': 'Montana','NA': 'National','NC': 'North Carolina',\n",
    "        'ND': 'North Dakota','NE': 'Nebraska','NH': 'New Hampshire','NJ': 'New Jersey','NM': 'New Mexico','NV': 'Nevada',\n",
    "        'NY': 'New York','OH': 'Ohio','OK': 'Oklahoma','OR': 'Oregon','PA': 'Pennsylvania','PR': 'Puerto Rico','RI': 'Rhode Island',\n",
    "        'SC': 'South Carolina','SD': 'South Dakota','TN': 'Tennessee','TX': 'Texas','UT': 'Utah','VA': 'Virginia',\n",
    "        'VI': 'Virgin Islands','VT': 'Vermont','WA': 'Washington','WI': 'Wisconsin','WV': 'West Virginia','WY': 'Wyoming'}\n",
    "\n",
    "Poverty['State'] = Poverty['State'].map(states)\n",
    "\n",
    "Poverty['Median_Income'] = Poverty['Median Household Income in Dollars'].apply(lambda x : re.sub('[^0-9]','',str(x)))\n",
    "Poverty['Median_Income'] = pd.to_numeric(Poverty['Median_Income'], errors='coerce')"
   ]
  },
  {
   "cell_type": "markdown",
   "metadata": {},
   "source": [
    "Merge Tables on Diabetes and Poverty"
   ]
  },
  {
   "cell_type": "code",
   "execution_count": 13,
   "metadata": {
    "collapsed": true
   },
   "outputs": [],
   "source": [
    "Diabetes_Poverty= pd.merge(Diabetes_Concat, Poverty,left_on = ['County','Year','State'],\n",
    "                  right_on = ['County','Year','State'])"
   ]
  },
  {
   "cell_type": "markdown",
   "metadata": {},
   "source": [
    "Checking if Intergerity if tables were preserved"
   ]
  },
  {
   "cell_type": "code",
   "execution_count": 14,
   "metadata": {
    "scrolled": true
   },
   "outputs": [
    {
     "data": {
      "text/plain": [
       "array([2000, 2001, 2002, 2003, 2004, 2005, 2006, 2007, 2008, 2009, 2010,\n",
       "       2011, 2012])"
      ]
     },
     "execution_count": 14,
     "metadata": {},
     "output_type": "execute_result"
    }
   ],
   "source": [
    "Diabetes_Poverty['Year'].unique()"
   ]
  },
  {
   "cell_type": "markdown",
   "metadata": {},
   "source": [
    "Select the correct metric for air pollution measurement (P2.5 density)"
   ]
  },
  {
   "cell_type": "code",
   "execution_count": 15,
   "metadata": {
    "collapsed": true
   },
   "outputs": [],
   "source": [
    "Air_Qual_2_5 = Air_Qual[Air_Qual['MeasureId']==296]"
   ]
  },
  {
   "cell_type": "markdown",
   "metadata": {},
   "source": [
    "Merge data on diabetes, poverty and air quality"
   ]
  },
  {
   "cell_type": "code",
   "execution_count": 16,
   "metadata": {
    "collapsed": true
   },
   "outputs": [],
   "source": [
    "Diabetes_Poverty_Air_Qual_2_5 = pd.merge(Diabetes_Poverty,Air_Qual_2_5,\n",
    "                left_on = ['County','Year','State'], \n",
    "                                right_on = ['CountyName','ReportYear','StateName'])"
   ]
  },
  {
   "cell_type": "markdown",
   "metadata": {},
   "source": [
    "Make squared term for air pollution in case relationship to death is not linear"
   ]
  },
  {
   "cell_type": "code",
   "execution_count": 17,
   "metadata": {
    "collapsed": true
   },
   "outputs": [],
   "source": [
    "Diabetes_Poverty_Air_Qual_2_5['Value_sq'] = Diabetes_Poverty_Air_Qual_2_5['Value'].apply(\n",
    "lambda x: x**2 )"
   ]
  },
  {
   "cell_type": "markdown",
   "metadata": {},
   "source": [
    "Create tables in order to find moving averages of features (to be used later)"
   ]
  },
  {
   "cell_type": "code",
   "execution_count": 18,
   "metadata": {
    "collapsed": true
   },
   "outputs": [],
   "source": [
    "DPA_2008 = Diabetes_Poverty_Air_Qual_2_5[(Diabetes_Poverty_Air_Qual_2_5['ReportYear'] >= 2001)&\n",
    "                                        (Diabetes_Poverty_Air_Qual_2_5['ReportYear'] <= 2008)]\n",
    "DPA_2009 = Diabetes_Poverty_Air_Qual_2_5[(Diabetes_Poverty_Air_Qual_2_5['ReportYear'] >= 2002)&\n",
    "                                        (Diabetes_Poverty_Air_Qual_2_5['ReportYear'] <= 2009)]\n",
    "DPA_2010 = Diabetes_Poverty_Air_Qual_2_5[(Diabetes_Poverty_Air_Qual_2_5['ReportYear'] >= 2003)&\n",
    "                                        (Diabetes_Poverty_Air_Qual_2_5['ReportYear'] <= 2010)]\n",
    "DPA_2011 = Diabetes_Poverty_Air_Qual_2_5[(Diabetes_Poverty_Air_Qual_2_5['ReportYear'] >= 2004)&\n",
    "                                        (Diabetes_Poverty_Air_Qual_2_5['ReportYear'] <= 2011)]\n"
   ]
  },
  {
   "cell_type": "code",
   "execution_count": 19,
   "metadata": {
    "collapsed": true
   },
   "outputs": [],
   "source": [
    "DPA_2008_mean = DPA_2008[['State', 'County', 'Prevalence of Diabetes', 'Year','State / County Name',\n",
    "'Median_Income','All Ages in Poverty Percent','Value','Value_sq','CountyFips']].groupby(['State','County']).mean()\n",
    "DPA_2008_mean = DPA_2008_mean.reset_index()\n",
    "DPA_2008_mean['Comp_Year'] = 2012\n",
    "\n",
    "DPA_2009_mean = DPA_2009[['State', 'County', 'Prevalence of Diabetes', 'Year','State / County Name',\n",
    "'Median_Income','All Ages in Poverty Percent','Value','Value_sq','CountyFips']].groupby(['State','County']).mean()\n",
    "DPA_2009_mean = DPA_2009_mean.reset_index()\n",
    "DPA_2009_mean['Comp_Year'] = 2013\n",
    "\n",
    "DPA_2010_mean = DPA_2010[['State', 'County', 'Prevalence of Diabetes', 'Year','State / County Name',\n",
    "'Median_Income','All Ages in Poverty Percent','Value','Value_sq','CountyFips']].groupby(['State','County']).mean()\n",
    "DPA_2010_mean = DPA_2010_mean.reset_index()\n",
    "DPA_2010_mean['Comp_Year'] = 2014\n",
    "\n",
    "DPA_2011_mean = DPA_2011[['State', 'County', 'Prevalence of Diabetes', 'Year','State / County Name',\n",
    "'Median_Income','All Ages in Poverty Percent','Value','Value_sq','CountyFips']].groupby(['State','County']).mean()\n",
    "DPA_2011_mean = DPA_2011_mean.reset_index()\n",
    "DPA_2011_mean['Comp_Year'] = 2015\n"
   ]
  },
  {
   "cell_type": "markdown",
   "metadata": {},
   "source": [
    "Make master tables of information on deaths and other features"
   ]
  },
  {
   "cell_type": "code",
   "execution_count": 20,
   "metadata": {},
   "outputs": [
    {
     "name": "stderr",
     "output_type": "stream",
     "text": [
      "/Users/jitsen/anaconda/lib/python3.6/site-packages/ipykernel_launcher.py:6: SettingWithCopyWarning: \n",
      "A value is trying to be set on a copy of a slice from a DataFrame.\n",
      "Try using .loc[row_indexer,col_indexer] = value instead\n",
      "\n",
      "See the caveats in the documentation: http://pandas.pydata.org/pandas-docs/stable/indexing.html#indexing-view-versus-copy\n",
      "  \n"
     ]
    }
   ],
   "source": [
    "Death_concat = pd.concat([Death_2012_1,Death_2013_1,\n",
    "               Death_2014_1,Death_2015_1])\n",
    "\n",
    "Death_new = Death_concat[['State','County','2013 Urbanization','2013 Urbanization Code',\n",
    "'Five-Year Age Groups','Deaths','Population','Year','ICD Sub-Chapter']]\n",
    "Death_new['County'] = Death_new.County.str.split().str[0]\n",
    "cols = ['State','County','2013 Urbanization','2013 Urbanization Code',\n",
    "'Five-Year Age Groups','Deaths','Population','Year','ICD Sub-Chapter']\n",
    "Death_new = Death_new.loc[:, cols].dropna()\n",
    "\n",
    "DPA_concat = pd.concat([DPA_2008_mean,DPA_2009_mean,DPA_2010_mean,DPA_2011_mean])\n"
   ]
  },
  {
   "cell_type": "markdown",
   "metadata": {},
   "source": [
    "Merge above tables"
   ]
  },
  {
   "cell_type": "code",
   "execution_count": 21,
   "metadata": {
    "collapsed": true
   },
   "outputs": [],
   "source": [
    "Death_DPA_merge = pd.merge(DPA_concat, Death_new,left_on = ['State','County','Comp_Year'],\n",
    "                          right_on = ['State','County','Year'])"
   ]
  },
  {
   "cell_type": "markdown",
   "metadata": {},
   "source": [
    "Select only IHD (Ischaemic Heart Disease) for analysis"
   ]
  },
  {
   "cell_type": "code",
   "execution_count": 22,
   "metadata": {
    "collapsed": true
   },
   "outputs": [],
   "source": [
    "Death_DPA_merge = Death_DPA_merge[Death_DPA_merge['Population'] != 'Not Applicable']\n",
    "Death_DPA_merge['Population'] = Death_DPA_merge['Population'].astype('int')\n",
    "Death_DPA_merge['prop_death'] = Death_DPA_merge['Deaths']/Death_DPA_merge['Population']\n",
    "Death_DPA_merge['Five-Year Age Groups'] = Death_DPA_merge['Five-Year Age Groups'].apply(\n",
    "lambda x : (int(x[3:5])+int(x[0:2]))/2)\n",
    "Death_DPA_merge\n",
    "Death_DPA_merge_IHD = Death_DPA_merge[Death_DPA_merge['ICD Sub-Chapter'] == 'Ischaemic heart diseases']"
   ]
  },
  {
   "cell_type": "code",
   "execution_count": 23,
   "metadata": {},
   "outputs": [
    {
     "data": {
      "text/html": [
       "<div>\n",
       "<style>\n",
       "    .dataframe thead tr:only-child th {\n",
       "        text-align: right;\n",
       "    }\n",
       "\n",
       "    .dataframe thead th {\n",
       "        text-align: left;\n",
       "    }\n",
       "\n",
       "    .dataframe tbody tr th {\n",
       "        vertical-align: top;\n",
       "    }\n",
       "</style>\n",
       "<table border=\"1\" class=\"dataframe\">\n",
       "  <thead>\n",
       "    <tr style=\"text-align: right;\">\n",
       "      <th></th>\n",
       "      <th>State</th>\n",
       "      <th>County</th>\n",
       "      <th>Prevalence of Diabetes</th>\n",
       "      <th>Year_x</th>\n",
       "      <th>Median_Income</th>\n",
       "      <th>All Ages in Poverty Percent</th>\n",
       "      <th>Value</th>\n",
       "      <th>Value_sq</th>\n",
       "      <th>CountyFips</th>\n",
       "      <th>Comp_Year</th>\n",
       "      <th>2013 Urbanization</th>\n",
       "      <th>2013 Urbanization Code</th>\n",
       "      <th>Five-Year Age Groups</th>\n",
       "      <th>Deaths</th>\n",
       "      <th>Population</th>\n",
       "      <th>Year_y</th>\n",
       "      <th>ICD Sub-Chapter</th>\n",
       "      <th>prop_death</th>\n",
       "    </tr>\n",
       "  </thead>\n",
       "  <tbody>\n",
       "    <tr>\n",
       "      <th>0</th>\n",
       "      <td>Alabama</td>\n",
       "      <td>Autauga</td>\n",
       "      <td>9.64250</td>\n",
       "      <td>2004.5</td>\n",
       "      <td>46018.875</td>\n",
       "      <td>10.8875</td>\n",
       "      <td>13.236328</td>\n",
       "      <td>175.600726</td>\n",
       "      <td>1001.0</td>\n",
       "      <td>2012</td>\n",
       "      <td>Medium Metro</td>\n",
       "      <td>3.0</td>\n",
       "      <td>82.0</td>\n",
       "      <td>10.0</td>\n",
       "      <td>824</td>\n",
       "      <td>2012</td>\n",
       "      <td>Ischaemic heart diseases</td>\n",
       "      <td>0.012136</td>\n",
       "    </tr>\n",
       "    <tr>\n",
       "      <th>2</th>\n",
       "      <td>Alabama</td>\n",
       "      <td>Baldwin</td>\n",
       "      <td>8.02125</td>\n",
       "      <td>2004.5</td>\n",
       "      <td>44353.625</td>\n",
       "      <td>10.5625</td>\n",
       "      <td>11.530307</td>\n",
       "      <td>133.452176</td>\n",
       "      <td>1003.0</td>\n",
       "      <td>2012</td>\n",
       "      <td>Small Metro</td>\n",
       "      <td>4.0</td>\n",
       "      <td>57.0</td>\n",
       "      <td>16.0</td>\n",
       "      <td>13594</td>\n",
       "      <td>2012</td>\n",
       "      <td>Ischaemic heart diseases</td>\n",
       "      <td>0.001177</td>\n",
       "    </tr>\n",
       "    <tr>\n",
       "      <th>3</th>\n",
       "      <td>Alabama</td>\n",
       "      <td>Baldwin</td>\n",
       "      <td>8.02125</td>\n",
       "      <td>2004.5</td>\n",
       "      <td>44353.625</td>\n",
       "      <td>10.5625</td>\n",
       "      <td>11.530307</td>\n",
       "      <td>133.452176</td>\n",
       "      <td>1003.0</td>\n",
       "      <td>2012</td>\n",
       "      <td>Small Metro</td>\n",
       "      <td>4.0</td>\n",
       "      <td>62.0</td>\n",
       "      <td>16.0</td>\n",
       "      <td>12681</td>\n",
       "      <td>2012</td>\n",
       "      <td>Ischaemic heart diseases</td>\n",
       "      <td>0.001262</td>\n",
       "    </tr>\n",
       "    <tr>\n",
       "      <th>4</th>\n",
       "      <td>Alabama</td>\n",
       "      <td>Baldwin</td>\n",
       "      <td>8.02125</td>\n",
       "      <td>2004.5</td>\n",
       "      <td>44353.625</td>\n",
       "      <td>10.5625</td>\n",
       "      <td>11.530307</td>\n",
       "      <td>133.452176</td>\n",
       "      <td>1003.0</td>\n",
       "      <td>2012</td>\n",
       "      <td>Small Metro</td>\n",
       "      <td>4.0</td>\n",
       "      <td>67.0</td>\n",
       "      <td>19.0</td>\n",
       "      <td>11523</td>\n",
       "      <td>2012</td>\n",
       "      <td>Ischaemic heart diseases</td>\n",
       "      <td>0.001649</td>\n",
       "    </tr>\n",
       "    <tr>\n",
       "      <th>5</th>\n",
       "      <td>Alabama</td>\n",
       "      <td>Baldwin</td>\n",
       "      <td>8.02125</td>\n",
       "      <td>2004.5</td>\n",
       "      <td>44353.625</td>\n",
       "      <td>10.5625</td>\n",
       "      <td>11.530307</td>\n",
       "      <td>133.452176</td>\n",
       "      <td>1003.0</td>\n",
       "      <td>2012</td>\n",
       "      <td>Small Metro</td>\n",
       "      <td>4.0</td>\n",
       "      <td>72.0</td>\n",
       "      <td>25.0</td>\n",
       "      <td>8551</td>\n",
       "      <td>2012</td>\n",
       "      <td>Ischaemic heart diseases</td>\n",
       "      <td>0.002924</td>\n",
       "    </tr>\n",
       "  </tbody>\n",
       "</table>\n",
       "</div>"
      ],
      "text/plain": [
       "     State   County  Prevalence of Diabetes  Year_x  Median_Income  \\\n",
       "0  Alabama  Autauga                 9.64250  2004.5      46018.875   \n",
       "2  Alabama  Baldwin                 8.02125  2004.5      44353.625   \n",
       "3  Alabama  Baldwin                 8.02125  2004.5      44353.625   \n",
       "4  Alabama  Baldwin                 8.02125  2004.5      44353.625   \n",
       "5  Alabama  Baldwin                 8.02125  2004.5      44353.625   \n",
       "\n",
       "   All Ages in Poverty Percent      Value    Value_sq  CountyFips  Comp_Year  \\\n",
       "0                      10.8875  13.236328  175.600726      1001.0       2012   \n",
       "2                      10.5625  11.530307  133.452176      1003.0       2012   \n",
       "3                      10.5625  11.530307  133.452176      1003.0       2012   \n",
       "4                      10.5625  11.530307  133.452176      1003.0       2012   \n",
       "5                      10.5625  11.530307  133.452176      1003.0       2012   \n",
       "\n",
       "  2013 Urbanization  2013 Urbanization Code  Five-Year Age Groups  Deaths  \\\n",
       "0      Medium Metro                     3.0                  82.0    10.0   \n",
       "2       Small Metro                     4.0                  57.0    16.0   \n",
       "3       Small Metro                     4.0                  62.0    16.0   \n",
       "4       Small Metro                     4.0                  67.0    19.0   \n",
       "5       Small Metro                     4.0                  72.0    25.0   \n",
       "\n",
       "   Population  Year_y           ICD Sub-Chapter  prop_death  \n",
       "0         824    2012  Ischaemic heart diseases    0.012136  \n",
       "2       13594    2012  Ischaemic heart diseases    0.001177  \n",
       "3       12681    2012  Ischaemic heart diseases    0.001262  \n",
       "4       11523    2012  Ischaemic heart diseases    0.001649  \n",
       "5        8551    2012  Ischaemic heart diseases    0.002924  "
      ]
     },
     "execution_count": 23,
     "metadata": {},
     "output_type": "execute_result"
    }
   ],
   "source": [
    "Death_DPA_merge_IHD.head()"
   ]
  },
  {
   "cell_type": "markdown",
   "metadata": {},
   "source": [
    "Add geo-coordinates to master dataset as an added feature"
   ]
  },
  {
   "cell_type": "code",
   "execution_count": 24,
   "metadata": {},
   "outputs": [],
   "source": [
    "Geo_coord = pd.read_csv('zip_codes_states.csv')\n",
    "Geo_coord['state'] = Geo_coord['state'].map(states)\n",
    "Geo_coord_mean = Geo_coord.groupby(['state','county',]).mean()\n",
    "Geo_coord_mean = Geo_coord_mean.reset_index()\n",
    "Death_m_concat_geo = pd.merge(Death_DPA_merge_IHD,Geo_coord_mean, left_on = ['State','County'],\n",
    "                              right_on = ['state','county'])\n"
   ]
  },
  {
   "cell_type": "code",
   "execution_count": 25,
   "metadata": {
    "collapsed": true
   },
   "outputs": [],
   "source": [
    "Death_m_concat_geo['Value_Age']  = Death_m_concat_geo['Value']*Death_m_concat_geo['Five-Year Age Groups']\n",
    "Death_m_concat_geo['Value_Poverty'] = Death_m_concat_geo['Value']*Death_m_concat_geo['All Ages in Poverty Percent']"
   ]
  },
  {
   "cell_type": "code",
   "execution_count": 26,
   "metadata": {
    "collapsed": true
   },
   "outputs": [],
   "source": [
    "def cause(age_group, metro):   \n",
    "    #new_df5 = new_df5[new_df5['Value'] < 40]\n",
    "    df = Death_m_concat_geo[Death_m_concat_geo['Five-Year Age Groups'] == age_group]\n",
    "    #new_df2['Prop_death'] = new_df2['Prop_death'].apply(lambda x : np.log(x))\n",
    "    df = df[df['2013 Urbanization'] == metro]\n",
    "    new_list = [x for x in zip(df['prop_death'],df['Value_sq'])]\n",
    "    new_list2 = sorted(new_list, key=lambda x: x[1])\n",
    "    return new_list2\n"
   ]
  },
  {
   "cell_type": "markdown",
   "metadata": {},
   "source": [
    "Run EDA having controlled for Metro size and age group"
   ]
  },
  {
   "cell_type": "code",
   "execution_count": 27,
   "metadata": {},
   "outputs": [
    {
     "data": {
      "image/png": "[encoded data removed]",
      "text/plain": [
       "<matplotlib.figure.Figure at 0x1c20b5d1d0>"
      ]
     },
     "metadata": {},
     "output_type": "display_data"
    }
   ],
   "source": [
    "fig, axes = plt.subplots(2, 2, figsize = (16,16));\n",
    "axes[0,0].scatter([x[1] for x in cause(62, 'Medium Metro') ],[x[0] for x in cause(62, 'Medium Metro')], \n",
    "            label = '60-64',s=6);\n",
    "axes[1,0].scatter([x[1] for x in cause(67, 'Medium Metro') ],[x[0] for x in cause(67, 'Medium Metro')], \n",
    "            label = '65-69',s=6);\n",
    "axes[0,1].scatter([x[1] for x in cause(72, 'Medium Metro') ],[x[0] for x in cause(72, 'Medium Metro')], \n",
    "            label = '70-74', s=6);\n",
    "axes[1,1].scatter([x[1] for x in cause(77, 'Medium Metro') ],[x[0] for x in cause(77, 'Medium Metro')], \n",
    "            label = '75-79', s=6);\n",
    "\n",
    "axes[0,0].legend();\n",
    "axes[0,1].legend();\n",
    "axes[1,0].legend();\n",
    "axes[1,1].legend();\n",
    "plt.show();"
   ]
  },
  {
   "cell_type": "markdown",
   "metadata": {},
   "source": [
    "Control for all confounders and run EDA (with hope to see relationship between proportion of deaths and particulate matter density)"
   ]
  },
  {
   "cell_type": "code",
   "execution_count": 28,
   "metadata": {
    "collapsed": true
   },
   "outputs": [],
   "source": [
    "X = Death_m_concat_geo[['Comp_Year','Prevalence of Diabetes','Median_Income',\n",
    "       'All Ages in Poverty Percent','2013 Urbanization Code','Five-Year Age Groups',\n",
    "      'Population','latitude', 'longitude','Value_Age','Value_Poverty']]\n",
    "\n",
    "scaler = MinMaxScaler(feature_range=(0, 1))\n",
    "X_ = scaler.fit_transform(X)\n",
    "k_means = cluster.KMeans(n_clusters=80)\n",
    "X_fit = k_means.fit(X_)\n",
    "labels = X_fit.labels_\n",
    "Death_m_concat_geo['clusters'] = labels"
   ]
  },
  {
   "cell_type": "code",
   "execution_count": 29,
   "metadata": {},
   "outputs": [
    {
     "data": {
      "image/png": "[encoded data removed]",
      "text/plain": [
       "<matplotlib.figure.Figure at 0x1c20ab8c18>"
      ]
     },
     "metadata": {},
     "output_type": "display_data"
    }
   ],
   "source": [
    "def cause_3(cluster):   \n",
    "    df = Death_m_concat_geo[Death_m_concat_geo['clusters'] == cluster]\n",
    "    #new_df5 = new_df5[new_df5['Value'] < 40]\n",
    "    #new_df2['Prop_death'] = new_df2['Prop_death'].apply(lambda x : np.log(x))\n",
    "    new_list = [x for x in zip(df['prop_death']*1000,df['Value_sq'])]\n",
    "    new_list2 = sorted(new_list, key=lambda x: x[1])\n",
    "    return new_list2\n",
    "\n",
    "fig, axes = plt.subplots(3, 3, figsize = (16,16), sharey=True, sharex = True);\n",
    "axes[0,0].scatter([x[1] for x in cause_3(0) ],[x[0] for x in cause_3(0)], \n",
    "            label = '0',s=6);\n",
    "axes[1,0].scatter([x[1] for x in cause_3(1) ],[x[0] for x in cause_3(1)], \n",
    "            label = '1',s=6);\n",
    "axes[2,0].scatter([x[1] for x in cause_3(2) ],[x[0] for x in cause_3(2)], \n",
    "            label = '2', s=6);\n",
    "axes[0,1].scatter([x[1] for x in cause_3(3) ],[x[0] for x in cause_3(3)], \n",
    "            label = '3', s=6);\n",
    "axes[1,1].scatter([x[1] for x in cause_3(4) ],[x[0] for x in cause_3(4)], \n",
    "            label = '4', s=6);\n",
    "axes[2,1].scatter([x[1] for x in cause_3(5) ],[x[0] for x in cause_3(5)], \n",
    "            label = '5', s=6);\n",
    "axes[0,2].scatter([x[1] for x in cause_3(6) ],[x[0] for x in cause_3(6)], \n",
    "            label = '6', s=6);\n",
    "axes[1,2].scatter([x[1] for x in cause_3(7) ],[x[0] for x in cause_3(7)], \n",
    "            label = '7', s=6);\n",
    "axes[2,2].scatter([x[1] for x in cause_3(8) ],[x[0] for x in cause_3(8)], \n",
    "            label = '8', s=6);\n",
    "axes[0,0].legend();\n",
    "axes[1,0].legend();\n",
    "axes[2,0].legend();\n",
    "axes[0,1].legend();\n",
    "axes[1,1].legend();\n",
    "axes[2,1].legend();\n",
    "axes[0,2].legend();\n",
    "axes[1,2].legend();\n",
    "axes[2,2].legend();\n",
    "\n",
    "plt.show();"
   ]
  },
  {
   "cell_type": "markdown",
   "metadata": {},
   "source": [
    "Control for confounders manually"
   ]
  },
  {
   "cell_type": "code",
   "execution_count": 31,
   "metadata": {},
   "outputs": [
    {
     "data": {
      "image/png": "[encoded data removed]",
      "text/plain": [
       "<matplotlib.figure.Figure at 0x1c20ac8898>"
      ]
     },
     "metadata": {},
     "output_type": "display_data"
    }
   ],
   "source": [
    "A = 40000\n",
    "B = 50000\n",
    "C = 10\n",
    "D = 12\n",
    "E = 8\n",
    "F = 10\n",
    "G = 3.0\n",
    "H = 77 \n",
    "I = 77\n",
    "J = 2015\n",
    "\n",
    "def cause_3(A,B,C,D,E,F,G,H,I,J):\n",
    "    Death_Select = Death_m_concat_geo[(Death_m_concat_geo['Median_Income'].between(A, B, inclusive=True) & \n",
    "    Death_m_concat_geo['All Ages in Poverty Percent'].between(C, D, inclusive=True) &\n",
    "    Death_m_concat_geo['Prevalence of Diabetes'].between(E, F, inclusive=False) &\n",
    "          (Death_m_concat_geo['2013 Urbanization Code'] == G) &\n",
    "    Death_m_concat_geo['Five-Year Age Groups'].between(H, I, inclusive=True)) &\n",
    "    (Death_m_concat_geo['Comp_Year'] == J)]\n",
    "    #new_df5 = new_df5[new_df5['Value'] < 40]\n",
    "    #new_df2['Prop_death'] = new_df2['Prop_death'].apply(lambda x : np.log(x))\n",
    "    new_list = [x for x in zip(Death_Select['prop_death']*1000,Death_Select['Value'],\n",
    "                               Death_Select['County']+\" \"+Death_Select['State'])]\n",
    "    new_list2 = sorted(new_list, key=lambda x: x[1])\n",
    "    return new_list2\n",
    "\n",
    "fig, ax = plt.subplots(3,2,figsize = (8,8), sharey = True, sharex = True);\n",
    "ax[0,0].scatter([x[1] for x in cause_3(45000,50000,10,12,8,10,3.0,67,67,2015)],\n",
    "            [x[0] for x in cause_3(45000,50000,10,12,8,10,3.0,67,67,2015)], \n",
    "            label = '0',s=20);\n",
    "\n",
    "ax[0,1].scatter([x[1] for x in cause_3(40000,45000,13,15,8,10,3.0,77,77,2015)],\n",
    "           [x[0] for x in cause_3(40000,45000,13,15,8,10,3.0,77,77,2015)], \n",
    "            label = '1',s=20);\n",
    "\n",
    "ax[1,0].scatter([x[1] for x in cause_3(50000,55000,8,10,6,8,3.0,72,72,2012)],\n",
    "            [x[0] for x in cause_3(50000,55000,8,10,6,8,3.0,72,72,2012)], \n",
    "            label = '2',s=20);\n",
    "\n",
    "ax[1,1].scatter([x[1] for x in cause_3(50000,55000,8,10,7,9,3.0,72,72,2014)],\n",
    "           [x[0] for x in cause_3(50000,55000,8,10,7,9,3.0,72,72,2014)], \n",
    "           label = '3',s=20);\n",
    "\n",
    "ax[2,0].scatter([x[1] for x in cause_3(40000,45000,15,17,9,11,3.0,67,67,2013)],\n",
    "           [x[0] for x in cause_3(40000,45000,15,17,9,11,3.0,67,67,2013)], \n",
    "           label = '4',s=20);\n",
    "#for i, txt in enumerate([x[2] for x in cause_3(A,B,C,D,E,F,G,H,I,J)]):\n",
    "#    ax.annotate(txt, ([x[1] for x in cause_3(A,B,C,D,E,F,G,H,I,J)][i],\n",
    "#                      [x[0] for x in cause_3(A,B,C,D,E,F,G,H,I,J)][i]),\n",
    "#      fontsize = 6);\n",
    "\n",
    "axes[0,0].legend();\n",
    "axes[0,1].legend();\n",
    "axes[1,0].legend();\n",
    "axes[1,1].legend();\n",
    "axes[2,0].legend();\n",
    "plt.show();\n"
   ]
  },
  {
   "cell_type": "markdown",
   "metadata": {},
   "source": [
    "look at distribution of death counts"
   ]
  },
  {
   "cell_type": "code",
   "execution_count": 32,
   "metadata": {},
   "outputs": [
    {
     "data": {
      "image/png": "[encoded data removed]",
      "text/plain": [
       "<matplotlib.figure.Figure at 0x1c20ac1c88>"
      ]
     },
     "metadata": {},
     "output_type": "display_data"
    }
   ],
   "source": [
    "plt.figure(figsize = (16,8));\n",
    "plt.hist(Death_m_concat_geo['Deaths'],bins=2000);\n",
    "plt.xlim(0,300);\n",
    "plt.show();"
   ]
  },
  {
   "cell_type": "markdown",
   "metadata": {},
   "source": [
    "Run poisson model using all features to predit death counts per county, per age group"
   ]
  },
  {
   "cell_type": "code",
   "execution_count": 33,
   "metadata": {
    "scrolled": false
   },
   "outputs": [
    {
     "data": {
      "text/plain": [
       "const   -0.895915\n",
       "x1      -0.103169\n",
       "x2       0.589696\n",
       "x3       0.433934\n",
       "x4       0.034869\n",
       "x5       0.361086\n",
       "x6       0.013830\n",
       "x7       0.033756\n",
       "x8      -6.274840\n",
       "x9       2.645748\n",
       "dtype: float64"
      ]
     },
     "execution_count": 33,
     "metadata": {},
     "output_type": "execute_result"
    }
   ],
   "source": [
    "X_sm = Death_m_concat_geo[['Comp_Year','Prevalence of Diabetes',\n",
    "       'All Ages in Poverty Percent','Value','2013 Urbanization Code',\n",
    "       'latitude', 'longitude','Population','Five-Year Age Groups']]\n",
    "\n",
    "X_sm_spec = X_sm[(X_sm['Five-Year Age Groups']>=1)&\n",
    "                (X_sm['Population']>=1)&(X_sm['Population']<=1000000) &\n",
    "                (X_sm['Value']>=1)]\n",
    "\n",
    "y_sm_spec  = Death_m_concat_geo[(Death_m_concat_geo['Five-Year Age Groups']>=1)&\n",
    "                               (Death_m_concat_geo['Population']>=1)&(Death_m_concat_geo['Population']<=1000000)\n",
    "                               & (X_sm['Value']>=1)]\n",
    "\n",
    "y_sm_spec = y_sm_spec['prop_death']*1000\n",
    "\n",
    "scaler = MinMaxScaler(feature_range=(0, 1))\n",
    "X_sm_t = scaler.fit_transform(X_sm_spec)\n",
    "\n",
    "#X_sm_t = pd.DataFrame(X_sm_t, columns = [\"Year\",\"Five-Year Age Groups\",'Median_Income',\n",
    "#                   'All Ages in Poverty Percent','Prevalence of Diabetes',\n",
    "#'2013 Urbanization Code','Value'])\n",
    "X_sm_t_new = sm.add_constant(X_sm_t)\n",
    "\n",
    "X_train, X_test, y_train, y_test = train_test_split(X_sm_t_new, y_sm_spec, test_size = .3)\n",
    "\n",
    "sm_pois = sm.GLM(y_train,X_train, family =  Poisson()).fit_regularized()\n",
    "sm_pois.params"
   ]
  },
  {
   "cell_type": "code",
   "execution_count": 34,
   "metadata": {},
   "outputs": [
    {
     "data": {
      "text/html": [
       "<div>\n",
       "<style>\n",
       "    .dataframe thead tr:only-child th {\n",
       "        text-align: right;\n",
       "    }\n",
       "\n",
       "    .dataframe thead th {\n",
       "        text-align: left;\n",
       "    }\n",
       "\n",
       "    .dataframe tbody tr th {\n",
       "        vertical-align: top;\n",
       "    }\n",
       "</style>\n",
       "<table border=\"1\" class=\"dataframe\">\n",
       "  <thead>\n",
       "    <tr style=\"text-align: right;\">\n",
       "      <th></th>\n",
       "      <th>Comp_Year</th>\n",
       "      <th>Prevalence of Diabetes</th>\n",
       "      <th>All Ages in Poverty Percent</th>\n",
       "      <th>Value</th>\n",
       "      <th>2013 Urbanization Code</th>\n",
       "      <th>latitude</th>\n",
       "      <th>longitude</th>\n",
       "      <th>Population</th>\n",
       "      <th>Five-Year Age Groups</th>\n",
       "    </tr>\n",
       "  </thead>\n",
       "  <tbody>\n",
       "    <tr>\n",
       "      <th>Comp_Year</th>\n",
       "      <td>1.000000</td>\n",
       "      <td>0.206390</td>\n",
       "      <td>0.111642</td>\n",
       "      <td>-0.190589</td>\n",
       "      <td>0.013327</td>\n",
       "      <td>-0.009528</td>\n",
       "      <td>-0.006463</td>\n",
       "      <td>0.004849</td>\n",
       "      <td>0.005787</td>\n",
       "    </tr>\n",
       "    <tr>\n",
       "      <th>Prevalence of Diabetes</th>\n",
       "      <td>0.206390</td>\n",
       "      <td>1.000000</td>\n",
       "      <td>0.768587</td>\n",
       "      <td>0.184881</td>\n",
       "      <td>0.137444</td>\n",
       "      <td>-0.485158</td>\n",
       "      <td>0.109967</td>\n",
       "      <td>-0.038299</td>\n",
       "      <td>-0.037436</td>\n",
       "    </tr>\n",
       "    <tr>\n",
       "      <th>All Ages in Poverty Percent</th>\n",
       "      <td>0.111642</td>\n",
       "      <td>0.768587</td>\n",
       "      <td>1.000000</td>\n",
       "      <td>-0.054437</td>\n",
       "      <td>0.326822</td>\n",
       "      <td>-0.357370</td>\n",
       "      <td>-0.134860</td>\n",
       "      <td>-0.045710</td>\n",
       "      <td>-0.007802</td>\n",
       "    </tr>\n",
       "    <tr>\n",
       "      <th>Value</th>\n",
       "      <td>-0.190589</td>\n",
       "      <td>0.184881</td>\n",
       "      <td>-0.054437</td>\n",
       "      <td>1.000000</td>\n",
       "      <td>-0.244331</td>\n",
       "      <td>0.052502</td>\n",
       "      <td>0.269885</td>\n",
       "      <td>0.151251</td>\n",
       "      <td>-0.100881</td>\n",
       "    </tr>\n",
       "    <tr>\n",
       "      <th>2013 Urbanization Code</th>\n",
       "      <td>0.013327</td>\n",
       "      <td>0.137444</td>\n",
       "      <td>0.326822</td>\n",
       "      <td>-0.244331</td>\n",
       "      <td>1.000000</td>\n",
       "      <td>0.028171</td>\n",
       "      <td>-0.041182</td>\n",
       "      <td>-0.481514</td>\n",
       "      <td>0.276678</td>\n",
       "    </tr>\n",
       "    <tr>\n",
       "      <th>latitude</th>\n",
       "      <td>-0.009528</td>\n",
       "      <td>-0.485158</td>\n",
       "      <td>-0.357370</td>\n",
       "      <td>0.052502</td>\n",
       "      <td>0.028171</td>\n",
       "      <td>1.000000</td>\n",
       "      <td>-0.016022</td>\n",
       "      <td>-0.038881</td>\n",
       "      <td>0.068253</td>\n",
       "    </tr>\n",
       "    <tr>\n",
       "      <th>longitude</th>\n",
       "      <td>-0.006463</td>\n",
       "      <td>0.109967</td>\n",
       "      <td>-0.134860</td>\n",
       "      <td>0.269885</td>\n",
       "      <td>-0.041182</td>\n",
       "      <td>-0.016022</td>\n",
       "      <td>1.000000</td>\n",
       "      <td>-0.028271</td>\n",
       "      <td>-0.009048</td>\n",
       "    </tr>\n",
       "    <tr>\n",
       "      <th>Population</th>\n",
       "      <td>0.004849</td>\n",
       "      <td>-0.038299</td>\n",
       "      <td>-0.045710</td>\n",
       "      <td>0.151251</td>\n",
       "      <td>-0.481514</td>\n",
       "      <td>-0.038881</td>\n",
       "      <td>-0.028271</td>\n",
       "      <td>1.000000</td>\n",
       "      <td>-0.504091</td>\n",
       "    </tr>\n",
       "    <tr>\n",
       "      <th>Five-Year Age Groups</th>\n",
       "      <td>0.005787</td>\n",
       "      <td>-0.037436</td>\n",
       "      <td>-0.007802</td>\n",
       "      <td>-0.100881</td>\n",
       "      <td>0.276678</td>\n",
       "      <td>0.068253</td>\n",
       "      <td>-0.009048</td>\n",
       "      <td>-0.504091</td>\n",
       "      <td>1.000000</td>\n",
       "    </tr>\n",
       "  </tbody>\n",
       "</table>\n",
       "</div>"
      ],
      "text/plain": [
       "                             Comp_Year  Prevalence of Diabetes  \\\n",
       "Comp_Year                     1.000000                0.206390   \n",
       "Prevalence of Diabetes        0.206390                1.000000   \n",
       "All Ages in Poverty Percent   0.111642                0.768587   \n",
       "Value                        -0.190589                0.184881   \n",
       "2013 Urbanization Code        0.013327                0.137444   \n",
       "latitude                     -0.009528               -0.485158   \n",
       "longitude                    -0.006463                0.109967   \n",
       "Population                    0.004849               -0.038299   \n",
       "Five-Year Age Groups          0.005787               -0.037436   \n",
       "\n",
       "                             All Ages in Poverty Percent     Value  \\\n",
       "Comp_Year                                       0.111642 -0.190589   \n",
       "Prevalence of Diabetes                          0.768587  0.184881   \n",
       "All Ages in Poverty Percent                     1.000000 -0.054437   \n",
       "Value                                          -0.054437  1.000000   \n",
       "2013 Urbanization Code                          0.326822 -0.244331   \n",
       "latitude                                       -0.357370  0.052502   \n",
       "longitude                                      -0.134860  0.269885   \n",
       "Population                                     -0.045710  0.151251   \n",
       "Five-Year Age Groups                           -0.007802 -0.100881   \n",
       "\n",
       "                             2013 Urbanization Code  latitude  longitude  \\\n",
       "Comp_Year                                  0.013327 -0.009528  -0.006463   \n",
       "Prevalence of Diabetes                     0.137444 -0.485158   0.109967   \n",
       "All Ages in Poverty Percent                0.326822 -0.357370  -0.134860   \n",
       "Value                                     -0.244331  0.052502   0.269885   \n",
       "2013 Urbanization Code                     1.000000  0.028171  -0.041182   \n",
       "latitude                                   0.028171  1.000000  -0.016022   \n",
       "longitude                                 -0.041182 -0.016022   1.000000   \n",
       "Population                                -0.481514 -0.038881  -0.028271   \n",
       "Five-Year Age Groups                       0.276678  0.068253  -0.009048   \n",
       "\n",
       "                             Population  Five-Year Age Groups  \n",
       "Comp_Year                      0.004849              0.005787  \n",
       "Prevalence of Diabetes        -0.038299             -0.037436  \n",
       "All Ages in Poverty Percent   -0.045710             -0.007802  \n",
       "Value                          0.151251             -0.100881  \n",
       "2013 Urbanization Code        -0.481514              0.276678  \n",
       "latitude                      -0.038881              0.068253  \n",
       "longitude                     -0.028271             -0.009048  \n",
       "Population                     1.000000             -0.504091  \n",
       "Five-Year Age Groups          -0.504091              1.000000  "
      ]
     },
     "execution_count": 34,
     "metadata": {},
     "output_type": "execute_result"
    }
   ],
   "source": [
    "X_sm.corr()"
   ]
  },
  {
   "cell_type": "code",
   "execution_count": 35,
   "metadata": {},
   "outputs": [
    {
     "data": {
      "text/plain": [
       "0.69209717419146455"
      ]
     },
     "execution_count": 35,
     "metadata": {},
     "output_type": "execute_result"
    }
   ],
   "source": [
    "y_pred = sm_pois.predict(X_test)\n",
    "\n",
    "def r2(a,b):\n",
    "    SSE = 0\n",
    "    SST = 0\n",
    "    for i, j in zip(a,b):\n",
    "        SSE += (j - i)**2\n",
    "        SST += (i - a.mean())**2 \n",
    "    return 1 - SSE/SST\n",
    "\n",
    "r2(y_test,y_pred)"
   ]
  },
  {
   "cell_type": "markdown",
   "metadata": {},
   "source": [
    "Run linear model to do the same"
   ]
  },
  {
   "cell_type": "code",
   "execution_count": 36,
   "metadata": {},
   "outputs": [
    {
     "name": "stdout",
     "output_type": "stream",
     "text": [
      "0.386373197939 0.38446403035 0.0529659368081\n"
     ]
    }
   ],
   "source": [
    "Death_m_concat_geo_2 = Death_m_concat_geo[Death_m_concat_geo['Five-Year Age Groups']>=1]\n",
    "\n",
    "X_lr_1 = Death_m_concat_geo_2[['Comp_Year','Prevalence of Diabetes',\n",
    "       'All Ages in Poverty Percent', 'Value','2013 Urbanization Code',\n",
    "       'latitude', 'longitude','Population','Five-Year Age Groups']]\n",
    "\n",
    "X_lr_2 = Death_m_concat_geo_2[['Comp_Year','Prevalence of Diabetes',\n",
    "       'All Ages in Poverty Percent','2013 Urbanization Code',\n",
    "       'latitude', 'longitude','Population','Five-Year Age Groups']]\n",
    "\n",
    "X_lr_3 = Death_m_concat_geo_2[['Value','Value_sq']]\n",
    "\n",
    "y_lr = Death_m_concat_geo_2['Deaths']\n",
    "\n",
    "scaler = MinMaxScaler(feature_range=(0, 1))\n",
    "\n",
    "X_lr_t1 = scaler.fit_transform(X_lr_1)\n",
    "X_lr_t2 = scaler.fit_transform(X_lr_2)\n",
    "X_lr_t3 = scaler.fit_transform(X_lr_3)\n",
    "\n",
    "lr1 = LinearRegression()\n",
    "lr2 = LinearRegression()\n",
    "lr3 = LinearRegression()\n",
    "\n",
    "lr1.fit(X_lr_t1, y_lr)\n",
    "lr2.fit(X_lr_t2, y_lr)\n",
    "lr3.fit(X_lr_t3, y_lr)\n",
    "\n",
    "print(lr1.score(X_lr_t1, y_lr),lr2.score(X_lr_t2, y_lr),lr3.score(X_lr_t3, y_lr))"
   ]
  },
  {
   "cell_type": "markdown",
   "metadata": {},
   "source": [
    "Run Random Forest model to predict death counts"
   ]
  },
  {
   "cell_type": "code",
   "execution_count": 38,
   "metadata": {},
   "outputs": [
    {
     "name": "stdout",
     "output_type": "stream",
     "text": [
      "n_estimators: 6 0.875946790292 min_samples_split: 5 0.977157633523 [ 0.00579846  0.02538285  0.01751859  0.0165426   0.00457759  0.02106112\n",
      "  0.01774427  0.31409415  0.57728035]\n",
      "n_estimators: 7 0.882120782603 min_samples_split: 10 0.972101324689 [ 0.00538265  0.02583655  0.01756468  0.01560156  0.00497864  0.01960919\n",
      "  0.01719128  0.30741237  0.58642309]\n",
      "n_estimators: 8 0.883211899839 min_samples_split: 15 0.968021249828 [ 0.00464846  0.02502892  0.01660726  0.01502491  0.0033904   0.01815506\n",
      "  0.01805778  0.3063276   0.59275962]\n",
      "n_estimators: 9 0.888607235273 min_samples_split: 20 0.96296850793 [ 0.00439266  0.02454424  0.01551111  0.01395633  0.00361939  0.0172563\n",
      "  0.01563569  0.30797261  0.59711166]\n",
      "n_estimators: 10 0.890481194353 min_samples_split: 25 0.959574592662 [ 0.00395866  0.02266718  0.01303884  0.01317413  0.00393569  0.01565415\n",
      "  0.01475061  0.31519007  0.59763067]\n",
      "n_estimators: 11 0.89016578566 min_samples_split: 30 0.955825484458 [ 0.0035774   0.02208255  0.01240691  0.01066606  0.00362322  0.01581554\n",
      "  0.01492825  0.31270155  0.60419851]\n",
      "n_estimators: 12 0.892252697933 min_samples_split: 35 0.951182045354 [ 0.00302346  0.02113697  0.01176136  0.01072992  0.00341726  0.01470619\n",
      "  0.01338304  0.3194027   0.60243909]\n",
      "n_estimators: 13 0.891374147297 min_samples_split: 40 0.948775296873 [ 0.00319807  0.01953065  0.01238797  0.01029537  0.00297486  0.0150937\n",
      "  0.01361587  0.31461729  0.60828622]\n",
      "n_estimators: 14 0.891742836289 min_samples_split: 45 0.945851729793 [ 0.00301603  0.01900708  0.01163906  0.00953379  0.00295645  0.01412619\n",
      "  0.01307516  0.31694384  0.6097024 ]\n"
     ]
    }
   ],
   "source": [
    "X_train, X_test, y_train, y_test = train_test_split(X_lr_1, Death_m_concat_geo_2['prop_death']*1000, test_size=0.3)\n",
    "for i in range(10)[1:]:    \n",
    "    rand_forest = RandomForestRegressor(n_estimators=5+i, min_samples_split=2*(i))\n",
    "    rand_forest.fit(X_train, y_train)\n",
    "    y_test_pred_rand_forest = rand_forest.predict(X_test)\n",
    "    print('n_estimators:',(5+i), rand_forest.score(X_test,y_test),\n",
    "          'min_samples_split:',5*(i), rand_forest.score(X_train, y_train),\n",
    "         rand_forest.feature_importances_)"
   ]
  },
  {
   "cell_type": "markdown",
   "metadata": {},
   "source": [
    "Create CSV file for D3 visualization of pollution concentration by geographic area"
   ]
  },
  {
   "cell_type": "code",
   "execution_count": null,
   "metadata": {},
   "outputs": [],
   "source": [
    "Death_d3 = Air_Qual_2_5[['CountyFips','Value','ReportYear']]\n",
    "Death_d3['CountyFips'] = Death_d3['CountyFips'].astype(int)\n",
    "Death_d3 = Death_d3[Death_d3['ReportYear'] == 2011].groupby(Death_d3['CountyFips']).mean()\n",
    "Death_d3['CountyFips'] = Death_d3['CountyFips'].apply(lambda x : '0'+str(x) if len(str(x))==4 else \n",
    "                                                      str(x))\n",
    "Death_d3['id'] = Death_d3['CountyFips'].astype(str)+'\\t'+Death_d3['Value'].astype(str)\n",
    "Death_d3['id'].to_csv('unemployment.tsv', index = False, encoding = 'utf8')"
   ]
  },
  {
   "cell_type": "markdown",
   "metadata": {},
   "source": [
    "Create CSV file for D3 visualization of poverty geographic dispersion"
   ]
  },
  {
   "cell_type": "code",
   "execution_count": null,
   "metadata": {
    "collapsed": true
   },
   "outputs": [],
   "source": [
    "Poverty_d3 =Poverty[['All Ages in Poverty Percent','County ID','Year']]\n",
    "Poverty_d3 = Diabetes_d3.dropna()\n",
    "Poverty_d3['County ID'] = Diabetes_d3['County ID'].astype(int)\n",
    "Poverty_d3['County ID'] = Diabetes_d3['County ID'].apply(lambda x : '0'+str(x) if len(str(x))==4 else \n",
    "                                                      str(x))\n",
    "Poverty_d3 = Diabetes_d3[Diabetes_d3['Year']== 2011]\n",
    "Poverty_d3['id'] = Diabetes_d3['County ID'].astype(str)+'\\t'+Diabetes_d3['All Ages in Poverty Percent'].astype(str)\n",
    "Poverty_d3['id'].to_csv('poverty.tsv', index = False, encoding = 'utf8')"
   ]
  },
  {
   "cell_type": "code",
   "execution_count": null,
   "metadata": {
    "collapsed": true
   },
   "outputs": [],
   "source": []
  }
 ],
 "metadata": {
  "kernelspec": {
   "display_name": "Python 3",
   "language": "python",
   "name": "python3"
  },
  "language_info": {
   "codemirror_mode": {
    "name": "ipython",
    "version": 3
   },
   "file_extension": ".py",
   "mimetype": "text/x-python",
   "name": "python",
   "nbconvert_exporter": "python",
   "pygments_lexer": "ipython3",
   "version": "3.6.3"
  }
 },
 "nbformat": 4,
 "nbformat_minor": 2
}
