{
 "cells": [
  {
   "cell_type": "markdown",
   "metadata": {},
   "source": [
    "Import modules and libraries required for project"
   ]
  },
  {
   "cell_type": "code",
   "execution_count": 6,
   "metadata": {},
   "outputs": [
    {
     "name": "stderr",
     "output_type": "stream",
     "text": [
      "/Users/jitsen/anaconda/lib/python3.6/site-packages/statsmodels/compat/pandas.py:56: FutureWarning: The pandas.core.datetools module is deprecated and will be removed in a future version. Please use the pandas.tseries module instead.\n",
      "  from pandas.core import datetools\n"
     ]
    }
   ],
   "source": [
    "import pandas as pd\n",
    "import numpy as np\n",
    "import matplotlib.pyplot as plt\n",
    "import re\n",
    "import statsmodels.api as sm\n",
    "from statsmodels.genmod.families import Poisson\n",
    "from sklearn.model_selection import train_test_split\n",
    "from sklearn import cluster, datasets\n",
    "from sklearn.preprocessing import MinMaxScaler\n",
    "from sklearn.ensemble import RandomForestRegressor\n",
    "from sklearn import metrics\n",
    "from sklearn.metrics import classification_report\n",
    "from sklearn.linear_model import LinearRegression"
   ]
  },
  {
   "cell_type": "markdown",
   "metadata": {},
   "source": [
    "Import data pertaining to Air Quality Measures"
   ]
  },
  {
   "cell_type": "code",
   "execution_count": 7,
   "metadata": {
    "collapsed": true
   },
   "outputs": [],
   "source": [
    "Air_Qual = pd.read_csv('Air_Qual.csv')\n",
    "\n",
    "Death_2012_1 = pd.read_csv('Underlying Cause of Death, 2012.txt',sep='\\t', usecols = [\"ICD Sub-Chapter\",\"ICD Sub-Chapter Code\",\"State\",\"State Code\",\"County\",\"County Code\",\"2013 Urbanization\",\"2013 Urbanization Code\",\"Five-Year Age Groups\",\"Five-Year Age Groups Code\",\"Deaths\",\"Population\",\"Crude Rate\",\"% of Total Deaths\"])\n",
    "Death_2012_1['Year'] = 2012\n",
    "Death_2013_1 = pd.read_csv('Underlying Cause of Death, 2013.txt',sep='\\t', usecols = [\"ICD Sub-Chapter\",\"ICD Sub-Chapter Code\",\"State\",\"State Code\",\"County\",\"County Code\",\"2013 Urbanization\",\"2013 Urbanization Code\",\"Five-Year Age Groups\",\"Five-Year Age Groups Code\",\"Deaths\",\"Population\",\"Crude Rate\",\"% of Total Deaths\"])\n",
    "Death_2013_1['Year'] = 2013\n",
    "Death_2014_1 = pd.read_csv('Underlying Cause of Death, 2014.txt',sep='\\t', usecols = [\"ICD Sub-Chapter\",\"ICD Sub-Chapter Code\",\"State\",\"State Code\",\"County\",\"County Code\",\"2013 Urbanization\",\"2013 Urbanization Code\",\"Five-Year Age Groups\",\"Five-Year Age Groups Code\",\"Deaths\",\"Population\",\"Crude Rate\",\"% of Total Deaths\"])\n",
    "Death_2014_1['Year'] = 2014\n",
    "Death_2015_1 = pd.read_csv('Underlying Cause of Death, 2015.txt',sep='\\t', usecols = [\"ICD Sub-Chapter\",\"ICD Sub-Chapter Code\",\"State\",\"State Code\",\"County\",\"County Code\",\"2013 Urbanization\",\"2013 Urbanization Code\",\"Five-Year Age Groups\",\"Five-Year Age Groups Code\",\"Deaths\",\"Population\",\"Crude Rate\",\"% of Total Deaths\"])\n",
    "Death_2015_1['Year'] = 2015"
   ]
  },
  {
   "cell_type": "markdown",
   "metadata": {},
   "source": [
    "Import data on diabetes"
   ]
  },
  {
   "cell_type": "code",
   "execution_count": 8,
   "metadata": {
    "collapsed": true
   },
   "outputs": [],
   "source": [
    "Diabetes = pd.read_csv('Diabetes.csv',sep=',', usecols = ['State','County','Prevalence, 1999, Both Sexes',\n",
    "'Prevalence, 2000, Both Sexes','Prevalence, 2001, Both Sexes','Prevalence, 2002, Both Sexes',\n",
    "'Prevalence, 2003, Both Sexes','Prevalence, 2004, Both Sexes','Prevalence, 2005, Both Sexes', \n",
    "'Prevalence, 2006, Both Sexes','Prevalence, 2007, Both Sexes','Prevalence, 2008, Both Sexes',\n",
    "'Prevalence, 2009, Both Sexes','Prevalence, 2010, Both Sexes','Prevalence, 2011, Both Sexes',\n",
    "'Prevalence, 2012, Both Sexes'])  \n",
    "\n",
    "pandas_dict = {}\n",
    "Year_list = [(2000,'2000'),(2001,'2001'),(2002,'2002'),(2003,'2003'),(2004,'2004'),\n",
    "             (2005,'2005'),(2006,'2006'),(2007,'2007'),(2008,'2008'),(2009,'2009'),\n",
    "             (2010,'2010'),(2011,'2011'),(2012,'2012')]\n",
    "for k,v in Year_list:\n",
    "    pandas_dict[k] = Diabetes[['State','County','Prevalence, %r, Both Sexes' %k]]\n",
    "\n",
    "Diabetes_list = []\n",
    "Diabetes = pd.DataFrame()\n",
    "for k,v in pandas_dict.items():\n",
    "    v['Year'] = k\n",
    "    v.columns.values[2] = 'Prevalence of Diabetes'\n",
    "    Diabetes_list.append(v)\n",
    "Diabetes_Concat = pd.concat(Diabetes_list)\n",
    "Diabetes_Concat['County'] = Diabetes_Concat['County'].apply(lambda x: x.split()[0])"
   ]
  },
  {
   "cell_type": "markdown",
   "metadata": {},
   "source": [
    "Import data on poverty"
   ]
  },
  {
   "cell_type": "code",
   "execution_count": 9,
   "metadata": {
    "collapsed": true
   },
   "outputs": [],
   "source": [
    "import glob\n",
    "import errno\n",
    "import os\n",
    "path = '/Users/jitsen/Documents/metis/metisgh/CDC/Poverty'\n",
    "content = []\n",
    "for filename in glob.glob(os.path.join(path, '*.csv')):\n",
    "    content.append(filename)\n",
    "    \n",
    "Poverty = pd.read_csv(content[0],usecols = ['Year','State / County Name','All Ages in Poverty Percent',\n",
    "                                           'Median Household Income in Dollars'])\n",
    "for i in content[1:]:\n",
    "    Poverty = pd.concat([Poverty, pd.read_csv(i,usecols = ['Year','State / County Name','All Ages in Poverty Percent',\n",
    "                                                          'Median Household Income in Dollars'])])"
   ]
  },
  {
   "cell_type": "code",
   "execution_count": 10,
   "metadata": {
    "collapsed": true
   },
   "outputs": [],
   "source": [
    "Poverty['County'] = Poverty['State / County Name'].apply(lambda x : x.split()[0])\n",
    "Poverty['State'] = Poverty['State / County Name'].apply(lambda x : x.split()[-1][1:3])\n",
    "states = {'AK': 'Alaska','AL': 'Alabama','AR': 'Arkansas','AS': 'American Samoa','AZ': 'Arizona','CA': 'California','CO': 'Colorado',\n",
    "        'CT': 'Connecticut','DC': 'District of Columbia','DE': 'Delaware','FL': 'Florida','GA': 'Georgia','GU': 'Guam',\n",
    "        'HI': 'Hawaii','IA': 'Iowa','ID': 'Idaho','IL': 'Illinois','IN': 'Indiana','KS': 'Kansas','KY': 'Kentucky',\n",
    "        'LA': 'Louisiana','MA': 'Massachusetts','MD': 'Maryland','ME': 'Maine','MI': 'Michigan','MN': 'Minnesota',\n",
    "        'MO': 'Missouri','MP': 'Northern Mariana Islands','MS': 'Mississippi','MT': 'Montana','NA': 'National','NC': 'North Carolina',\n",
    "        'ND': 'North Dakota','NE': 'Nebraska','NH': 'New Hampshire','NJ': 'New Jersey','NM': 'New Mexico','NV': 'Nevada',\n",
    "        'NY': 'New York','OH': 'Ohio','OK': 'Oklahoma','OR': 'Oregon','PA': 'Pennsylvania','PR': 'Puerto Rico','RI': 'Rhode Island',\n",
    "        'SC': 'South Carolina','SD': 'South Dakota','TN': 'Tennessee','TX': 'Texas','UT': 'Utah','VA': 'Virginia',\n",
    "        'VI': 'Virgin Islands','VT': 'Vermont','WA': 'Washington','WI': 'Wisconsin','WV': 'West Virginia','WY': 'Wyoming'}\n",
    "\n",
    "Poverty['State'] = Poverty['State'].map(states)\n",
    "\n",
    "Poverty['Median_Income'] = Poverty['Median Household Income in Dollars'].apply(lambda x : re.sub('[^0-9]','',str(x)))\n",
    "Poverty['Median_Income'] = pd.to_numeric(Poverty['Median_Income'], errors='coerce')"
   ]
  },
  {
   "cell_type": "markdown",
   "metadata": {},
   "source": [
    "Merge tables on diabetes and poverty"
   ]
  },
  {
   "cell_type": "code",
   "execution_count": 11,
   "metadata": {
    "collapsed": true
   },
   "outputs": [],
   "source": [
    "Diabetes_Poverty= pd.merge(Diabetes_Concat, Poverty,left_on = ['County','Year','State'],\n",
    "                  right_on = ['County','Year','State'])"
   ]
  },
  {
   "cell_type": "markdown",
   "metadata": {},
   "source": [
    "Checking if intergerity if tables were preserved"
   ]
  },
  {
   "cell_type": "code",
   "execution_count": 12,
   "metadata": {
    "scrolled": true
   },
   "outputs": [
    {
     "data": {
      "text/plain": [
       "array([2000, 2001, 2002, 2003, 2004, 2005, 2006, 2007, 2008, 2009, 2010,\n",
       "       2011, 2012])"
      ]
     },
     "execution_count": 12,
     "metadata": {},
     "output_type": "execute_result"
    }
   ],
   "source": [
    "Diabetes_Poverty['Year'].unique()"
   ]
  },
  {
   "cell_type": "markdown",
   "metadata": {},
   "source": [
    "Select the correct metric for air pollution measurement (P2.5 density)"
   ]
  },
  {
   "cell_type": "code",
   "execution_count": 13,
   "metadata": {
    "collapsed": true
   },
   "outputs": [],
   "source": [
    "Air_Qual_2_5 = Air_Qual[Air_Qual['MeasureId']==296]"
   ]
  },
  {
   "cell_type": "markdown",
   "metadata": {},
   "source": [
    "Merge data on diabetes, poverty and air quality"
   ]
  },
  {
   "cell_type": "code",
   "execution_count": 14,
   "metadata": {
    "collapsed": true
   },
   "outputs": [],
   "source": [
    "Diabetes_Poverty_Air_Qual_2_5 = pd.merge(Diabetes_Poverty,Air_Qual_2_5,\n",
    "                left_on = ['County','Year','State'], \n",
    "                                right_on = ['CountyName','ReportYear','StateName'])"
   ]
  },
  {
   "cell_type": "markdown",
   "metadata": {},
   "source": [
    "Make squared term for air pollution in case relationship to death is not linear"
   ]
  },
  {
   "cell_type": "code",
   "execution_count": 15,
   "metadata": {
    "collapsed": true
   },
   "outputs": [],
   "source": [
    "Diabetes_Poverty_Air_Qual_2_5['Value_sq'] = Diabetes_Poverty_Air_Qual_2_5['Value'].apply(\n",
    "lambda x: x**2 )"
   ]
  },
  {
   "cell_type": "markdown",
   "metadata": {},
   "source": [
    "Create tables in order to find moving averages of features (to be used later)"
   ]
  },
  {
   "cell_type": "code",
   "execution_count": 16,
   "metadata": {
    "collapsed": true
   },
   "outputs": [],
   "source": [
    "DPA_2008 = Diabetes_Poverty_Air_Qual_2_5[(Diabetes_Poverty_Air_Qual_2_5['ReportYear'] >= 2001)&\n",
    "                                        (Diabetes_Poverty_Air_Qual_2_5['ReportYear'] <= 2008)]\n",
    "DPA_2009 = Diabetes_Poverty_Air_Qual_2_5[(Diabetes_Poverty_Air_Qual_2_5['ReportYear'] >= 2002)&\n",
    "                                        (Diabetes_Poverty_Air_Qual_2_5['ReportYear'] <= 2009)]\n",
    "DPA_2010 = Diabetes_Poverty_Air_Qual_2_5[(Diabetes_Poverty_Air_Qual_2_5['ReportYear'] >= 2003)&\n",
    "                                        (Diabetes_Poverty_Air_Qual_2_5['ReportYear'] <= 2010)]\n",
    "DPA_2011 = Diabetes_Poverty_Air_Qual_2_5[(Diabetes_Poverty_Air_Qual_2_5['ReportYear'] >= 2004)&\n",
    "                                        (Diabetes_Poverty_Air_Qual_2_5['ReportYear'] <= 2011)]\n"
   ]
  },
  {
   "cell_type": "code",
   "execution_count": 17,
   "metadata": {
    "collapsed": true
   },
   "outputs": [],
   "source": [
    "DPA_2008_mean = DPA_2008[['State', 'County', 'Prevalence of Diabetes', 'Year','State / County Name',\n",
    "'Median_Income','All Ages in Poverty Percent','Value','Value_sq']].groupby(['State','County']).mean()\n",
    "DPA_2008_mean = DPA_2008_mean.reset_index()\n",
    "DPA_2008_mean['Comp_Year'] = 2012\n",
    "\n",
    "DPA_2009_mean = DPA_2009[['State', 'County', 'Prevalence of Diabetes', 'Year','State / County Name',\n",
    "'Median_Income','All Ages in Poverty Percent','Value','Value_sq']].groupby(['State','County']).mean()\n",
    "DPA_2009_mean = DPA_2009_mean.reset_index()\n",
    "DPA_2009_mean['Comp_Year'] = 2013\n",
    "\n",
    "DPA_2010_mean = DPA_2010[['State', 'County', 'Prevalence of Diabetes', 'Year','State / County Name',\n",
    "'Median_Income','All Ages in Poverty Percent','Value','Value_sq']].groupby(['State','County']).mean()\n",
    "DPA_2010_mean = DPA_2010_mean.reset_index()\n",
    "DPA_2010_mean['Comp_Year'] = 2014\n",
    "\n",
    "DPA_2011_mean = DPA_2011[['State', 'County', 'Prevalence of Diabetes', 'Year','State / County Name',\n",
    "'Median_Income','All Ages in Poverty Percent','Value','Value_sq']].groupby(['State','County']).mean()\n",
    "DPA_2011_mean = DPA_2011_mean.reset_index()\n",
    "DPA_2011_mean['Comp_Year'] = 2015\n"
   ]
  },
  {
   "cell_type": "markdown",
   "metadata": {},
   "source": [
    "Make master tables of information on deaths and other features"
   ]
  },
  {
   "cell_type": "code",
   "execution_count": 18,
   "metadata": {},
   "outputs": [
    {
     "name": "stderr",
     "output_type": "stream",
     "text": [
      "/Users/jitsen/anaconda/lib/python3.6/site-packages/ipykernel_launcher.py:6: SettingWithCopyWarning: \n",
      "A value is trying to be set on a copy of a slice from a DataFrame.\n",
      "Try using .loc[row_indexer,col_indexer] = value instead\n",
      "\n",
      "See the caveats in the documentation: http://pandas.pydata.org/pandas-docs/stable/indexing.html#indexing-view-versus-copy\n",
      "  \n"
     ]
    }
   ],
   "source": [
    "Death_concat = pd.concat([Death_2012_1,Death_2013_1,\n",
    "               Death_2014_1,Death_2015_1])\n",
    "\n",
    "Death_new = Death_concat[['State','County','2013 Urbanization','2013 Urbanization Code',\n",
    "'Five-Year Age Groups','Deaths','Population','Year','ICD Sub-Chapter']]\n",
    "Death_new['County'] = Death_new.County.str.split().str[0]\n",
    "cols = ['State','County','2013 Urbanization','2013 Urbanization Code',\n",
    "'Five-Year Age Groups','Deaths','Population','Year','ICD Sub-Chapter']\n",
    "Death_new = Death_new.loc[:, cols].dropna()\n",
    "\n",
    "DPA_concat = pd.concat([DPA_2008_mean,DPA_2009_mean,DPA_2010_mean,DPA_2011_mean])\n"
   ]
  },
  {
   "cell_type": "markdown",
   "metadata": {},
   "source": [
    "Merge above tables"
   ]
  },
  {
   "cell_type": "code",
   "execution_count": 19,
   "metadata": {
    "collapsed": true
   },
   "outputs": [],
   "source": [
    "Death_DPA_merge = pd.merge(DPA_concat, Death_new,left_on = ['State','County','Comp_Year'],\n",
    "                          right_on = ['State','County','Year'])"
   ]
  },
  {
   "cell_type": "markdown",
   "metadata": {},
   "source": [
    "Select only COPD (Chronic Obstructive Pulmonary Disease) for analysis"
   ]
  },
  {
   "cell_type": "code",
   "execution_count": 20,
   "metadata": {
    "collapsed": true
   },
   "outputs": [],
   "source": [
    "Death_DPA_merge = Death_DPA_merge[Death_DPA_merge['Population'] != 'Not Applicable']\n",
    "Death_DPA_merge['Population'] = Death_DPA_merge['Population'].astype('int')\n",
    "Death_DPA_merge['prop_death'] = Death_DPA_merge['Deaths']/Death_DPA_merge['Population']\n",
    "Death_DPA_merge['Five-Year Age Groups'] = Death_DPA_merge['Five-Year Age Groups'].apply(\n",
    "lambda x : (int(x[3:5])+int(x[0:2]))/2)\n",
    "Death_DPA_merge\n",
    "Death_DPA_merge_COPD = Death_DPA_merge[Death_DPA_merge['ICD Sub-Chapter'] == 'Chronic lower respiratory diseases']"
   ]
  },
  {
   "cell_type": "code",
   "execution_count": 21,
   "metadata": {},
   "outputs": [
    {
     "data": {
      "text/html": [
       "<div>\n",
       "<style>\n",
       "    .dataframe thead tr:only-child th {\n",
       "        text-align: right;\n",
       "    }\n",
       "\n",
       "    .dataframe thead th {\n",
       "        text-align: left;\n",
       "    }\n",
       "\n",
       "    .dataframe tbody tr th {\n",
       "        vertical-align: top;\n",
       "    }\n",
       "</style>\n",
       "<table border=\"1\" class=\"dataframe\">\n",
       "  <thead>\n",
       "    <tr style=\"text-align: right;\">\n",
       "      <th></th>\n",
       "      <th>State</th>\n",
       "      <th>County</th>\n",
       "      <th>Prevalence of Diabetes</th>\n",
       "      <th>Year_x</th>\n",
       "      <th>Median_Income</th>\n",
       "      <th>All Ages in Poverty Percent</th>\n",
       "      <th>Value</th>\n",
       "      <th>Value_sq</th>\n",
       "      <th>Comp_Year</th>\n",
       "      <th>2013 Urbanization</th>\n",
       "      <th>2013 Urbanization Code</th>\n",
       "      <th>Five-Year Age Groups</th>\n",
       "      <th>Deaths</th>\n",
       "      <th>Population</th>\n",
       "      <th>Year_y</th>\n",
       "      <th>ICD Sub-Chapter</th>\n",
       "      <th>prop_death</th>\n",
       "    </tr>\n",
       "  </thead>\n",
       "  <tbody>\n",
       "    <tr>\n",
       "      <th>11</th>\n",
       "      <td>Alabama</td>\n",
       "      <td>Baldwin</td>\n",
       "      <td>8.02125</td>\n",
       "      <td>2004.5</td>\n",
       "      <td>44353.625</td>\n",
       "      <td>10.5625</td>\n",
       "      <td>11.530307</td>\n",
       "      <td>133.452176</td>\n",
       "      <td>2012</td>\n",
       "      <td>Small Metro</td>\n",
       "      <td>4.0</td>\n",
       "      <td>77.0</td>\n",
       "      <td>13.0</td>\n",
       "      <td>6071</td>\n",
       "      <td>2012</td>\n",
       "      <td>Chronic lower respiratory diseases</td>\n",
       "      <td>0.002141</td>\n",
       "    </tr>\n",
       "    <tr>\n",
       "      <th>12</th>\n",
       "      <td>Alabama</td>\n",
       "      <td>Baldwin</td>\n",
       "      <td>8.02125</td>\n",
       "      <td>2004.5</td>\n",
       "      <td>44353.625</td>\n",
       "      <td>10.5625</td>\n",
       "      <td>11.530307</td>\n",
       "      <td>133.452176</td>\n",
       "      <td>2012</td>\n",
       "      <td>Small Metro</td>\n",
       "      <td>4.0</td>\n",
       "      <td>82.0</td>\n",
       "      <td>17.0</td>\n",
       "      <td>4114</td>\n",
       "      <td>2012</td>\n",
       "      <td>Chronic lower respiratory diseases</td>\n",
       "      <td>0.004132</td>\n",
       "    </tr>\n",
       "    <tr>\n",
       "      <th>17</th>\n",
       "      <td>Alabama</td>\n",
       "      <td>Blount</td>\n",
       "      <td>9.48625</td>\n",
       "      <td>2004.5</td>\n",
       "      <td>40049.500</td>\n",
       "      <td>12.6125</td>\n",
       "      <td>15.069577</td>\n",
       "      <td>227.865066</td>\n",
       "      <td>2012</td>\n",
       "      <td>Large Fringe Metro</td>\n",
       "      <td>2.0</td>\n",
       "      <td>67.0</td>\n",
       "      <td>10.0</td>\n",
       "      <td>3163</td>\n",
       "      <td>2012</td>\n",
       "      <td>Chronic lower respiratory diseases</td>\n",
       "      <td>0.003162</td>\n",
       "    </tr>\n",
       "    <tr>\n",
       "      <th>27</th>\n",
       "      <td>Alabama</td>\n",
       "      <td>Calhoun</td>\n",
       "      <td>10.75500</td>\n",
       "      <td>2004.5</td>\n",
       "      <td>35238.500</td>\n",
       "      <td>16.8250</td>\n",
       "      <td>14.551696</td>\n",
       "      <td>212.497484</td>\n",
       "      <td>2012</td>\n",
       "      <td>Small Metro</td>\n",
       "      <td>4.0</td>\n",
       "      <td>62.0</td>\n",
       "      <td>10.0</td>\n",
       "      <td>7314</td>\n",
       "      <td>2012</td>\n",
       "      <td>Chronic lower respiratory diseases</td>\n",
       "      <td>0.001367</td>\n",
       "    </tr>\n",
       "    <tr>\n",
       "      <th>28</th>\n",
       "      <td>Alabama</td>\n",
       "      <td>Calhoun</td>\n",
       "      <td>10.75500</td>\n",
       "      <td>2004.5</td>\n",
       "      <td>35238.500</td>\n",
       "      <td>16.8250</td>\n",
       "      <td>14.551696</td>\n",
       "      <td>212.497484</td>\n",
       "      <td>2012</td>\n",
       "      <td>Small Metro</td>\n",
       "      <td>4.0</td>\n",
       "      <td>77.0</td>\n",
       "      <td>12.0</td>\n",
       "      <td>3358</td>\n",
       "      <td>2012</td>\n",
       "      <td>Chronic lower respiratory diseases</td>\n",
       "      <td>0.003574</td>\n",
       "    </tr>\n",
       "  </tbody>\n",
       "</table>\n",
       "</div>"
      ],
      "text/plain": [
       "      State   County  Prevalence of Diabetes  Year_x  Median_Income  \\\n",
       "11  Alabama  Baldwin                 8.02125  2004.5      44353.625   \n",
       "12  Alabama  Baldwin                 8.02125  2004.5      44353.625   \n",
       "17  Alabama   Blount                 9.48625  2004.5      40049.500   \n",
       "27  Alabama  Calhoun                10.75500  2004.5      35238.500   \n",
       "28  Alabama  Calhoun                10.75500  2004.5      35238.500   \n",
       "\n",
       "    All Ages in Poverty Percent      Value    Value_sq  Comp_Year  \\\n",
       "11                      10.5625  11.530307  133.452176       2012   \n",
       "12                      10.5625  11.530307  133.452176       2012   \n",
       "17                      12.6125  15.069577  227.865066       2012   \n",
       "27                      16.8250  14.551696  212.497484       2012   \n",
       "28                      16.8250  14.551696  212.497484       2012   \n",
       "\n",
       "     2013 Urbanization  2013 Urbanization Code  Five-Year Age Groups  Deaths  \\\n",
       "11         Small Metro                     4.0                  77.0    13.0   \n",
       "12         Small Metro                     4.0                  82.0    17.0   \n",
       "17  Large Fringe Metro                     2.0                  67.0    10.0   \n",
       "27         Small Metro                     4.0                  62.0    10.0   \n",
       "28         Small Metro                     4.0                  77.0    12.0   \n",
       "\n",
       "    Population  Year_y                     ICD Sub-Chapter  prop_death  \n",
       "11        6071    2012  Chronic lower respiratory diseases    0.002141  \n",
       "12        4114    2012  Chronic lower respiratory diseases    0.004132  \n",
       "17        3163    2012  Chronic lower respiratory diseases    0.003162  \n",
       "27        7314    2012  Chronic lower respiratory diseases    0.001367  \n",
       "28        3358    2012  Chronic lower respiratory diseases    0.003574  "
      ]
     },
     "execution_count": 21,
     "metadata": {},
     "output_type": "execute_result"
    }
   ],
   "source": [
    "Death_DPA_merge_COPD.head()"
   ]
  },
  {
   "cell_type": "markdown",
   "metadata": {},
   "source": [
    "Add geo-coordinates to master dataset as an added feature"
   ]
  },
  {
   "cell_type": "code",
   "execution_count": 37,
   "metadata": {},
   "outputs": [],
   "source": [
    "Geo_coord = pd.read_csv('zip_codes_states.csv')\n",
    "Geo_coord['state'] = Geo_coord['state'].map(states)\n",
    "Geo_coord_mean = Geo_coord.groupby(['state','county',]).mean()\n",
    "Geo_coord_mean = Geo_coord_mean.reset_index()\n",
    "Death_m_concat_geo = pd.merge(Death_DPA_merge_COPD,Geo_coord_mean, left_on = ['State','County'],\n",
    "                              right_on = ['state','county'])"
   ]
  },
  {
   "cell_type": "code",
   "execution_count": 23,
   "metadata": {
    "collapsed": true
   },
   "outputs": [],
   "source": [
    "def cause(age_group, metro):   \n",
    "    #new_df5 = new_df5[new_df5['Value'] < 40]\n",
    "    df = Death_m_concat_geo[Death_m_concat_geo['Five-Year Age Groups'] == age_group]\n",
    "    #new_df2['Prop_death'] = new_df2['Prop_death'].apply(lambda x : np.log(x))\n",
    "    df = df[df['2013 Urbanization'] == metro]\n",
    "    new_list = [x for x in zip(df['prop_death'],df['Value_sq'])]\n",
    "    new_list2 = sorted(new_list, key=lambda x: x[1])\n",
    "    return new_list2\n"
   ]
  },
  {
   "cell_type": "markdown",
   "metadata": {},
   "source": [
    "Run EDA having controlled for Metro size and age group"
   ]
  },
  {
   "cell_type": "code",
   "execution_count": 24,
   "metadata": {},
   "outputs": [
    {
     "data": {
      "image/png": "[encoded data removed]",
      "text/plain": [
       "<matplotlib.figure.Figure at 0x1c1b5a8f98>"
      ]
     },
     "metadata": {},
     "output_type": "display_data"
    }
   ],
   "source": [
    "fig, axes = plt.subplots(2, 2, figsize = (16,16));\n",
    "axes[0,0].scatter([x[1] for x in cause(62, 'Medium Metro') ],[x[0] for x in cause(62, 'Medium Metro')], \n",
    "            label = '60-64',s=6);\n",
    "axes[1,0].scatter([x[1] for x in cause(67, 'Medium Metro') ],[x[0] for x in cause(67, 'Medium Metro')], \n",
    "            label = '65-69',s=6);\n",
    "axes[0,1].scatter([x[1] for x in cause(72, 'Medium Metro') ],[x[0] for x in cause(72, 'Medium Metro')], \n",
    "            label = '70-74', s=6);\n",
    "axes[1,1].scatter([x[1] for x in cause(77, 'Medium Metro') ],[x[0] for x in cause(77, 'Medium Metro')], \n",
    "            label = '75-79', s=6);\n",
    "\n",
    "axes[0,0].legend();\n",
    "axes[0,1].legend();\n",
    "axes[1,0].legend();\n",
    "axes[1,1].legend();\n",
    "plt.show();"
   ]
  },
  {
   "cell_type": "markdown",
   "metadata": {},
   "source": [
    "Control for all confounders and run EDA (with hope to see relationship between proportion of deaths and particulate matter density)"
   ]
  },
  {
   "cell_type": "code",
   "execution_count": 25,
   "metadata": {
    "collapsed": true
   },
   "outputs": [],
   "source": [
    "X = Death_m_concat_geo[['Comp_Year','Prevalence of Diabetes','Median_Income',\n",
    "       'All Ages in Poverty Percent','2013 Urbanization Code','Five-Year Age Groups',\n",
    "      'Population','latitude', 'longitude']]\n",
    "\n",
    "scaler = MinMaxScaler(feature_range=(0, 1))\n",
    "X_ = scaler.fit_transform(X)\n",
    "k_means = cluster.KMeans(n_clusters=80)\n",
    "X_fit = k_means.fit(X_)\n",
    "labels = X_fit.labels_\n",
    "Death_m_concat_geo['clusters'] = labels"
   ]
  },
  {
   "cell_type": "code",
   "execution_count": 26,
   "metadata": {},
   "outputs": [
    {
     "data": {
      "image/png": "[encoded data removed]",
      "text/plain": [
       "<matplotlib.figure.Figure at 0x1c1b50f208>"
      ]
     },
     "metadata": {},
     "output_type": "display_data"
    }
   ],
   "source": [
    "def cause_3(cluster):   \n",
    "    df = Death_m_concat_geo[Death_m_concat_geo['clusters'] == cluster]\n",
    "    #new_df5 = new_df5[new_df5['Value'] < 40]\n",
    "    #new_df2['Prop_death'] = new_df2['Prop_death'].apply(lambda x : np.log(x))\n",
    "    new_list = [x for x in zip(df['prop_death'],df['Value_sq'])]\n",
    "    new_list2 = sorted(new_list, key=lambda x: x[1])\n",
    "    return new_list2\n",
    "\n",
    "fig, axes = plt.subplots(3, 3, figsize = (16,16), sharey=True, sharex = True);\n",
    "axes[0,0].scatter([x[1] for x in cause_3(0) ],[x[0] for x in cause_3(0)], \n",
    "            label = '0',s=6);\n",
    "axes[1,0].scatter([x[1] for x in cause_3(1) ],[x[0] for x in cause_3(1)], \n",
    "            label = '1',s=6);\n",
    "axes[2,0].scatter([x[1] for x in cause_3(2) ],[x[0] for x in cause_3(2)], \n",
    "            label = '2', s=6);\n",
    "axes[0,1].scatter([x[1] for x in cause_3(3) ],[x[0] for x in cause_3(3)], \n",
    "            label = '3', s=6);\n",
    "axes[1,1].scatter([x[1] for x in cause_3(4) ],[x[0] for x in cause_3(4)], \n",
    "            label = '4', s=6);\n",
    "axes[2,1].scatter([x[1] for x in cause_3(5) ],[x[0] for x in cause_3(5)], \n",
    "            label = '5', s=6);\n",
    "axes[0,2].scatter([x[1] for x in cause_3(6) ],[x[0] for x in cause_3(6)], \n",
    "            label = '6', s=6);\n",
    "axes[1,2].scatter([x[1] for x in cause_3(7) ],[x[0] for x in cause_3(7)], \n",
    "            label = '7', s=6);\n",
    "axes[2,2].scatter([x[1] for x in cause_3(8) ],[x[0] for x in cause_3(8)], \n",
    "            label = '8', s=6);\n",
    "axes[0,0].legend();\n",
    "axes[1,0].legend();\n",
    "axes[2,0].legend();\n",
    "axes[0,1].legend();\n",
    "axes[1,1].legend();\n",
    "axes[2,1].legend();\n",
    "axes[0,2].legend();\n",
    "axes[1,2].legend();\n",
    "axes[2,2].legend();\n",
    "\n",
    "plt.show();"
   ]
  },
  {
   "cell_type": "markdown",
   "metadata": {},
   "source": [
    "Control for confounders manually"
   ]
  },
  {
   "cell_type": "code",
   "execution_count": 27,
   "metadata": {},
   "outputs": [
    {
     "data": {
      "image/png": "[encoded data removed]",
      "text/plain": [
       "<matplotlib.figure.Figure at 0x1c1b3eadd8>"
      ]
     },
     "metadata": {},
     "output_type": "display_data"
    }
   ],
   "source": [
    "A = 40000\n",
    "B = 50000\n",
    "C = 10\n",
    "D = 12\n",
    "E = 8\n",
    "F = 10\n",
    "G = 3.0\n",
    "H = 77 \n",
    "I = 77\n",
    "J = 2015\n",
    "\n",
    "def cause_3(A,B,C,D,E,F,G,H,I,J):\n",
    "    Death_Select = Death_m_concat_geo[(Death_m_concat_geo['Median_Income'].between(A, B, inclusive=True) & \n",
    "    Death_m_concat_geo['All Ages in Poverty Percent'].between(C, D, inclusive=True) &\n",
    "    Death_m_concat_geo['Prevalence of Diabetes'].between(E, F, inclusive=False) &\n",
    "          (Death_m_concat_geo['2013 Urbanization Code'] == G) &\n",
    "    Death_m_concat_geo['Five-Year Age Groups'].between(H, I, inclusive=True)) &\n",
    "    (Death_m_concat_geo['Comp_Year'] == J)]\n",
    "    #new_df5 = new_df5[new_df5['Value'] < 40]\n",
    "    #new_df2['Prop_death'] = new_df2['Prop_death'].apply(lambda x : np.log(x))\n",
    "    new_list = [x for x in zip(Death_Select['prop_death'],Death_Select['Value'],\n",
    "                               Death_Select['County']+\" \"+Death_Select['State'])]\n",
    "    new_list2 = sorted(new_list, key=lambda x: x[1])\n",
    "    return new_list2\n",
    "\n",
    "fig, ax = plt.subplots(3,2,figsize = (8,8), sharey = True, sharex = True);\n",
    "ax[0,0].scatter([x[1] for x in cause_3(45000,50000,10,12,8,10,3.0,67,67,2015)],\n",
    "            [x[0] for x in cause_3(45000,50000,10,12,8,10,3.0,67,67,2015)], \n",
    "            label = '0',s=20);\n",
    "\n",
    "ax[0,1].scatter([x[1] for x in cause_3(40000,45000,13,15,8,10,3.0,77,77,2015)],\n",
    "           [x[0] for x in cause_3(40000,45000,13,15,8,10,3.0,77,77,2015)], \n",
    "            label = '1',s=20);\n",
    "\n",
    "ax[1,0].scatter([x[1] for x in cause_3(50000,55000,8,10,6,8,3.0,72,72,2012)],\n",
    "            [x[0] for x in cause_3(50000,55000,8,10,6,8,3.0,72,72,2012)], \n",
    "            label = '2',s=20);\n",
    "\n",
    "ax[1,1].scatter([x[1] for x in cause_3(50000,55000,8,10,7,9,3.0,72,72,2014)],\n",
    "           [x[0] for x in cause_3(50000,55000,8,10,7,9,3.0,72,72,2014)], \n",
    "           label = '3',s=20);\n",
    "\n",
    "ax[2,0].scatter([x[1] for x in cause_3(40000,45000,15,17,9,11,3.0,67,67,2013)],\n",
    "           [x[0] for x in cause_3(40000,45000,15,17,9,11,3.0,67,67,2013)], \n",
    "           label = '4',s=20);\n",
    "#for i, txt in enumerate([x[2] for x in cause_3(A,B,C,D,E,F,G,H,I,J)]):\n",
    "#    ax.annotate(txt, ([x[1] for x in cause_3(A,B,C,D,E,F,G,H,I,J)][i],\n",
    "#                      [x[0] for x in cause_3(A,B,C,D,E,F,G,H,I,J)][i]),\n",
    "#      fontsize = 6);\n",
    "\n",
    "axes[0,0].legend();\n",
    "axes[0,1].legend();\n",
    "axes[1,0].legend();\n",
    "axes[1,1].legend();\n",
    "axes[2,0].legend();\n",
    "plt.show();\n"
   ]
  },
  {
   "cell_type": "markdown",
   "metadata": {},
   "source": [
    "Look at distribution of death counts"
   ]
  },
  {
   "cell_type": "code",
   "execution_count": 28,
   "metadata": {},
   "outputs": [
    {
     "data": {
      "image/png": "[encoded data removed]",
      "text/plain": [
       "<matplotlib.figure.Figure at 0x1c1b52fa90>"
      ]
     },
     "metadata": {},
     "output_type": "display_data"
    }
   ],
   "source": [
    "plt.figure(figsize = (16,8));\n",
    "plt.hist(Death_m_concat_geo['Deaths'],bins=2000);\n",
    "plt.xlim(0,100);\n",
    "plt.show();"
   ]
  },
  {
   "cell_type": "markdown",
   "metadata": {},
   "source": [
    "Run poisson model using all features to predit death counts per county, per age group"
   ]
  },
  {
   "cell_type": "code",
   "execution_count": 29,
   "metadata": {
    "scrolled": true
   },
   "outputs": [
    {
     "data": {
      "text/plain": [
       "const    4.422853\n",
       "x1      -0.073780\n",
       "x2       0.605968\n",
       "x3      -0.010758\n",
       "x4      -0.115919\n",
       "x5       0.404900\n",
       "x6      -0.144975\n",
       "x7      -0.215520\n",
       "x8      -2.861566\n",
       "x9       1.850454\n",
       "dtype: float64"
      ]
     },
     "execution_count": 29,
     "metadata": {},
     "output_type": "execute_result"
    }
   ],
   "source": [
    "X_sm = Death_m_concat_geo[['Comp_Year','Prevalence of Diabetes',\n",
    "       'All Ages in Poverty Percent','Value','2013 Urbanization Code',\n",
    "       'latitude', 'longitude','Population','Five-Year Age Groups']]\n",
    "\n",
    "X_sm_spec = X_sm[(X_sm['Five-Year Age Groups']>=1)&\n",
    "                (X_sm['Population']>=1)&(X_sm['Population']<=100000) &\n",
    "                (X_sm['Value']>=1)]\n",
    "\n",
    "y_sm_spec  = Death_m_concat_geo[(Death_m_concat_geo['Five-Year Age Groups']>=1)&\n",
    "                               (Death_m_concat_geo['Population']>=1)&(Death_m_concat_geo['Population']<=100000)\n",
    "                               & (X_sm['Value']>=1)]\n",
    "\n",
    "y_sm_spec = y_sm_spec['prop_death']*100000\n",
    "\n",
    "scaler = MinMaxScaler(feature_range=(0, 1))\n",
    "X_sm_t = scaler.fit_transform(X_sm_spec)\n",
    "\n",
    "#X_sm_t = pd.DataFrame(X_sm_t, columns = [\"Year\",\"Five-Year Age Groups\",'Median_Income',\n",
    "#                   'All Ages in Poverty Percent','Prevalence of Diabetes',\n",
    "#'2013 Urbanization Code','Value'])\n",
    "\n",
    "X_sm_t_new = sm.add_constant(X_sm_t)\n",
    "\n",
    "X_train, X_test, y_train, y_test = train_test_split(X_sm_t_new, y_sm_spec, test_size = .5)\n",
    "\n",
    "sm_pois = sm.GLM(y_train,X_train, family =  Poisson()).fit_regularized()\n",
    "sm_pois.params"
   ]
  },
  {
   "cell_type": "code",
   "execution_count": 30,
   "metadata": {},
   "outputs": [
    {
     "data": {
      "text/plain": [
       "0.70538752004785832"
      ]
     },
     "execution_count": 30,
     "metadata": {},
     "output_type": "execute_result"
    }
   ],
   "source": [
    "y_pred = sm_pois.predict(X_test)\n",
    "\n",
    "def r2(a,b):\n",
    "    SSE = 0\n",
    "    SST = 0\n",
    "    for i, j in zip(a,b):\n",
    "        SSE += (j - i)**2\n",
    "        SST += (i - a.mean())**2 \n",
    "    return 1 - SSE/SST\n",
    "\n",
    "r2(y_test,y_pred)"
   ]
  },
  {
   "cell_type": "code",
   "execution_count": 31,
   "metadata": {},
   "outputs": [
    {
     "data": {
      "text/html": [
       "<table class=\"simpletable\">\n",
       "<caption>Generalized Linear Model Regression Results</caption>\n",
       "<tr>\n",
       "  <th>Dep. Variable:</th>     <td>prop_death</td>    <th>  No. Observations:  </th>     <td>  4079</td>    \n",
       "</tr>\n",
       "<tr>\n",
       "  <th>Model:</th>                 <td>GLM</td>       <th>  Df Residuals:      </th>     <td>  4069</td>    \n",
       "</tr>\n",
       "<tr>\n",
       "  <th>Model Family:</th>   <td>NegativeBinomial</td> <th>  Df Model:          </th>     <td>     9</td>    \n",
       "</tr>\n",
       "<tr>\n",
       "  <th>Link Function:</th>         <td>log</td>       <th>  Scale:             </th> <td>0.129184909194</td>\n",
       "</tr>\n",
       "<tr>\n",
       "  <th>Method:</th>               <td>IRLS</td>       <th>  Log-Likelihood:    </th>    <td> -26422.</td>   \n",
       "</tr>\n",
       "<tr>\n",
       "  <th>Date:</th>           <td>Wed, 18 Apr 2018</td> <th>  Deviance:          </th>    <td>  503.46</td>   \n",
       "</tr>\n",
       "<tr>\n",
       "  <th>Time:</th>               <td>08:52:50</td>     <th>  Pearson chi2:      </th>     <td>  526.</td>    \n",
       "</tr>\n",
       "<tr>\n",
       "  <th>No. Iterations:</th>         <td>9</td>        <th>                     </th>        <td> </td>      \n",
       "</tr>\n",
       "</table>\n",
       "<table class=\"simpletable\">\n",
       "<tr>\n",
       "    <td></td>       <th>coef</th>     <th>std err</th>      <th>z</th>      <th>P>|z|</th>  <th>[0.025</th>    <th>0.975]</th>  \n",
       "</tr>\n",
       "<tr>\n",
       "  <th>const</th> <td>    3.1852</td> <td>    0.049</td> <td>   65.018</td> <td> 0.000</td> <td>    3.089</td> <td>    3.281</td>\n",
       "</tr>\n",
       "<tr>\n",
       "  <th>x1</th>    <td>   -0.0942</td> <td>    0.017</td> <td>   -5.688</td> <td> 0.000</td> <td>   -0.127</td> <td>   -0.062</td>\n",
       "</tr>\n",
       "<tr>\n",
       "  <th>x2</th>    <td>    1.0169</td> <td>    0.085</td> <td>   12.029</td> <td> 0.000</td> <td>    0.851</td> <td>    1.183</td>\n",
       "</tr>\n",
       "<tr>\n",
       "  <th>x3</th>    <td>    0.0963</td> <td>    0.073</td> <td>    1.314</td> <td> 0.189</td> <td>   -0.047</td> <td>    0.240</td>\n",
       "</tr>\n",
       "<tr>\n",
       "  <th>x4</th>    <td>   -0.0606</td> <td>    0.052</td> <td>   -1.174</td> <td> 0.240</td> <td>   -0.162</td> <td>    0.041</td>\n",
       "</tr>\n",
       "<tr>\n",
       "  <th>x5</th>    <td>    0.5064</td> <td>    0.031</td> <td>   16.513</td> <td> 0.000</td> <td>    0.446</td> <td>    0.567</td>\n",
       "</tr>\n",
       "<tr>\n",
       "  <th>x6</th>    <td>   -0.0721</td> <td>    0.033</td> <td>   -2.213</td> <td> 0.027</td> <td>   -0.136</td> <td>   -0.008</td>\n",
       "</tr>\n",
       "<tr>\n",
       "  <th>x7</th>    <td>   -0.2199</td> <td>    0.025</td> <td>   -8.699</td> <td> 0.000</td> <td>   -0.269</td> <td>   -0.170</td>\n",
       "</tr>\n",
       "<tr>\n",
       "  <th>x8</th>    <td>   -1.4211</td> <td>    0.049</td> <td>  -29.068</td> <td> 0.000</td> <td>   -1.517</td> <td>   -1.325</td>\n",
       "</tr>\n",
       "<tr>\n",
       "  <th>x9</th>    <td>    2.8089</td> <td>    0.033</td> <td>   84.542</td> <td> 0.000</td> <td>    2.744</td> <td>    2.874</td>\n",
       "</tr>\n",
       "</table>"
      ],
      "text/plain": [
       "<class 'statsmodels.iolib.summary.Summary'>\n",
       "\"\"\"\n",
       "                 Generalized Linear Model Regression Results                  \n",
       "==============================================================================\n",
       "Dep. Variable:             prop_death   No. Observations:                 4079\n",
       "Model:                            GLM   Df Residuals:                     4069\n",
       "Model Family:        NegativeBinomial   Df Model:                            9\n",
       "Link Function:                    log   Scale:                  0.129184909194\n",
       "Method:                          IRLS   Log-Likelihood:                -26422.\n",
       "Date:                Wed, 18 Apr 2018   Deviance:                       503.46\n",
       "Time:                        08:52:50   Pearson chi2:                     526.\n",
       "No. Iterations:                     9                                         \n",
       "==============================================================================\n",
       "                 coef    std err          z      P>|z|      [0.025      0.975]\n",
       "------------------------------------------------------------------------------\n",
       "const          3.1852      0.049     65.018      0.000       3.089       3.281\n",
       "x1            -0.0942      0.017     -5.688      0.000      -0.127      -0.062\n",
       "x2             1.0169      0.085     12.029      0.000       0.851       1.183\n",
       "x3             0.0963      0.073      1.314      0.189      -0.047       0.240\n",
       "x4            -0.0606      0.052     -1.174      0.240      -0.162       0.041\n",
       "x5             0.5064      0.031     16.513      0.000       0.446       0.567\n",
       "x6            -0.0721      0.033     -2.213      0.027      -0.136      -0.008\n",
       "x7            -0.2199      0.025     -8.699      0.000      -0.269      -0.170\n",
       "x8            -1.4211      0.049    -29.068      0.000      -1.517      -1.325\n",
       "x9             2.8089      0.033     84.542      0.000       2.744       2.874\n",
       "==============================================================================\n",
       "\"\"\""
      ]
     },
     "execution_count": 31,
     "metadata": {},
     "output_type": "execute_result"
    }
   ],
   "source": [
    "sm_nb = sm.GLM(y_train,X_train, family = sm.families.NegativeBinomial()).fit()\n",
    "sm_nb.summary()"
   ]
  },
  {
   "cell_type": "code",
   "execution_count": 32,
   "metadata": {},
   "outputs": [
    {
     "data": {
      "text/plain": [
       "0.67852213975136144"
      ]
     },
     "execution_count": 32,
     "metadata": {},
     "output_type": "execute_result"
    }
   ],
   "source": [
    "y_pred_nb = sm_nb.predict(X_test)\n",
    "\n",
    "def r2(a,b):\n",
    "    SSE = 0\n",
    "    SST = 0\n",
    "    for i, j in zip(a,b):\n",
    "        SSE += (j - i)**2\n",
    "        SST += (i - a.mean())**2 \n",
    "    return 1 - SSE/SST\n",
    "\n",
    "r2(y_test,y_pred_nb)"
   ]
  },
  {
   "cell_type": "markdown",
   "metadata": {},
   "source": [
    "Run linear model to do the same"
   ]
  },
  {
   "cell_type": "code",
   "execution_count": 33,
   "metadata": {},
   "outputs": [
    {
     "name": "stdout",
     "output_type": "stream",
     "text": [
      "0.372869699453 0.377889856762 0.0559409077674\n"
     ]
    }
   ],
   "source": [
    "Death_m_concat_geo_2 = Death_m_concat_geo[Death_m_concat_geo['Five-Year Age Groups']>=1]\n",
    "\n",
    "X_lr_1 = Death_m_concat_geo_2[['Comp_Year','Prevalence of Diabetes',\n",
    "       'All Ages in Poverty Percent', 'Value','2013 Urbanization Code',\n",
    "       'latitude', 'longitude','Population','Five-Year Age Groups']]\n",
    "\n",
    "X_lr_2 = Death_m_concat_geo_2[['Comp_Year','Prevalence of Diabetes','Median_Income',\n",
    "       'All Ages in Poverty Percent','2013 Urbanization Code',\n",
    "       'latitude', 'longitude','Population','Five-Year Age Groups']]\n",
    "\n",
    "X_lr_3 = Death_m_concat_geo_2[['Value', 'Value_sq']]\n",
    "\n",
    "y_lr = Death_m_concat_geo_2['Deaths']\n",
    "\n",
    "scaler = MinMaxScaler(feature_range=(0, 1))\n",
    "\n",
    "X_lr_t1 = scaler.fit_transform(X_lr_1)\n",
    "X_lr_t2 = scaler.fit_transform(X_lr_2)\n",
    "X_lr_t3 = scaler.fit_transform(X_lr_3)\n",
    "\n",
    "lr1 = LinearRegression()\n",
    "lr2 = LinearRegression()\n",
    "lr3 = LinearRegression()\n",
    "\n",
    "lr1.fit(X_lr_t1, y_lr)\n",
    "lr2.fit(X_lr_t2, y_lr)\n",
    "lr3.fit(X_lr_t3, y_lr)\n",
    "\n",
    "print(lr1.score(X_lr_t1, y_lr),lr2.score(X_lr_t2, y_lr),lr3.score(X_lr_t3, y_lr))"
   ]
  },
  {
   "cell_type": "markdown",
   "metadata": {},
   "source": [
    "Run Random Forest model to predict death counts"
   ]
  },
  {
   "cell_type": "code",
   "execution_count": 34,
   "metadata": {},
   "outputs": [
    {
     "name": "stdout",
     "output_type": "stream",
     "text": [
      "n_estimators: 6 0.873536037881 min_samples_split: 5 0.972466225503 [ 0.00637288  0.0210869   0.01840243  0.02050428  0.00364485  0.01861932\n",
      "  0.02176823  0.70672044  0.18288068]\n",
      "n_estimators: 7 0.876615125173 min_samples_split: 10 0.969211223188 [ 0.00568455  0.01909702  0.01831664  0.02139474  0.00359309  0.01826148\n",
      "  0.02215747  0.70461438  0.18688063]\n",
      "n_estimators: 8 0.881309574667 min_samples_split: 15 0.963910175709 [ 0.00451058  0.0169777   0.01794718  0.01989139  0.00324398  0.01818547\n",
      "  0.02011116  0.71704357  0.18208898]\n",
      "n_estimators: 9 0.877822144421 min_samples_split: 20 0.957244242496 [ 0.00368036  0.01869429  0.01712703  0.01841182  0.00348172  0.01472677\n",
      "  0.02005026  0.72213213  0.18169562]\n",
      "n_estimators: 10 0.883193698927 min_samples_split: 25 0.955042201997 [ 0.00287288  0.01559949  0.01662063  0.0156382   0.00261668  0.01772801\n",
      "  0.01777124  0.72588634  0.18526653]\n",
      "n_estimators: 11 0.882394083672 min_samples_split: 30 0.95076186326 [ 0.00268413  0.01475866  0.01389081  0.01571824  0.00298506  0.01585948\n",
      "  0.01860526  0.73159327  0.18390508]\n",
      "n_estimators: 12 0.884113999081 min_samples_split: 35 0.948307659307 [ 0.00332052  0.01379751  0.01368998  0.0150884   0.00301432  0.01511599\n",
      "  0.0177379   0.72709495  0.19114043]\n",
      "n_estimators: 13 0.880430487473 min_samples_split: 40 0.944887710096 [ 0.00199031  0.0127036   0.01234343  0.01561521  0.00270177  0.01569416\n",
      "  0.0157642   0.73827247  0.18491486]\n",
      "n_estimators: 14 0.884666628895 min_samples_split: 45 0.938090585656 [ 0.00171962  0.01178137  0.01249185  0.01399832  0.00253371  0.01460762\n",
      "  0.01540023  0.7340189   0.19344838]\n"
     ]
    }
   ],
   "source": [
    "X_train, X_test, y_train, y_test = train_test_split(X_lr_1, Death_m_concat_geo_2['prop_death']*1000, test_size=0.3)\n",
    "for i in range(10)[1:]:    \n",
    "    rand_forest = RandomForestRegressor(n_estimators=5+i, min_samples_split=2*(i))\n",
    "    rand_forest.fit(X_train, y_train)\n",
    "    y_test_pred_rand_forest = rand_forest.predict(X_test)\n",
    "    print('n_estimators:',(5+i), rand_forest.score(X_test,y_test),\n",
    "          'min_samples_split:',5*(i), rand_forest.score(X_train, y_train),\n",
    "         rand_forest.feature_importances_)"
   ]
  },
  {
   "cell_type": "code",
   "execution_count": null,
   "metadata": {
    "collapsed": true
   },
   "outputs": [],
   "source": []
  }
 ],
 "metadata": {
  "kernelspec": {
   "display_name": "Python 3",
   "language": "python",
   "name": "python3"
  },
  "language_info": {
   "codemirror_mode": {
    "name": "ipython",
    "version": 3
   },
   "file_extension": ".py",
   "mimetype": "text/x-python",
   "name": "python",
   "nbconvert_exporter": "python",
   "pygments_lexer": "ipython3",
   "version": "3.6.3"
  }
 },
 "nbformat": 4,
 "nbformat_minor": 2
}
